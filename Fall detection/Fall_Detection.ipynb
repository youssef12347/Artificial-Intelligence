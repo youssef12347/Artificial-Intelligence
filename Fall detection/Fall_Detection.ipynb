{
  "nbformat": 4,
  "nbformat_minor": 0,
  "metadata": {
    "accelerator": "GPU",
    "colab": {
      "name": "Fall Detection.ipynb",
      "provenance": [],
      "collapsed_sections": []
    },
    "kernelspec": {
      "display_name": "Python 3",
      "name": "python3"
    },
    "language_info": {
      "name": "python"
    }
  },
  "cells": [
    {
      "cell_type": "code",
      "metadata": {
        "colab": {
          "base_uri": "https://localhost:8080/"
        },
        "id": "P8vS3xwXLcDf",
        "outputId": "c23d3400-25dd-4565-b894-d1da6747b078"
      },
      "source": [
        "import os\n",
        "import pathlib\n",
        "\n",
        "# Clone the tensorflow models repository if it doesn't already exist\n",
        "if \"models\" in pathlib.Path.cwd().parts:\n",
        "  while \"models\" in pathlib.Path.cwd().parts:\n",
        "    os.chdir('..')\n",
        "elif not pathlib.Path('models').exists():\n",
        "  !git clone --depth 1 https://github.com/tensorflow/models"
      ],
      "execution_count": null,
      "outputs": [
        {
          "output_type": "stream",
          "text": [
            "Cloning into 'models'...\n",
            "remote: Enumerating objects: 2614, done.\u001b[K\n",
            "remote: Counting objects: 100% (2614/2614), done.\u001b[K\n",
            "remote: Compressing objects: 100% (2175/2175), done.\u001b[K\n",
            "remote: Total 2614 (delta 648), reused 1211 (delta 405), pack-reused 0\u001b[K\n",
            "Receiving objects: 100% (2614/2614), 32.58 MiB | 18.61 MiB/s, done.\n",
            "Resolving deltas: 100% (648/648), done.\n"
          ],
          "name": "stdout"
        }
      ]
    },
    {
      "cell_type": "markdown",
      "metadata": {
        "id": "hyTTFXFciS_v"
      },
      "source": [
        "# **Before continuing, Please follow the following steps:** \n",
        "\n",
        "# **Go to models/research/object_detection/packages/tf2/setup.py, then replace 'tf-models-official' by 'tf-models-official==2.4.0'** \n"
      ]
    },
    {
      "cell_type": "code",
      "metadata": {
        "id": "DRw2GeY6L8YP",
        "colab": {
          "base_uri": "https://localhost:8080/"
        },
        "outputId": "c624cf24-f4dc-432b-9b93-a6124dce47c0"
      },
      "source": [
        "\n",
        "# Install the Object Detection API\n",
        "%%bash\n",
        "cd models/research/\n",
        "protoc object_detection/protos/*.proto --python_out=.\n",
        "cp object_detection/packages/tf2/setup.py .\n",
        "python -m pip install ."
      ],
      "execution_count": null,
      "outputs": [
        {
          "output_type": "stream",
          "text": [
            "Processing /content/models/research\n",
            "Collecting avro-python3\n",
            "  Downloading https://files.pythonhosted.org/packages/cc/97/7a6970380ca8db9139a3cc0b0e3e0dd3e4bc584fb3644e1d06e71e1a55f0/avro-python3-1.10.2.tar.gz\n",
            "Collecting apache-beam\n",
            "  Downloading https://files.pythonhosted.org/packages/4a/7f/342e6bf4bbdc55418c929b3281948070ef4ca83e198dc9135352c25799f9/apache_beam-2.29.0-cp37-cp37m-manylinux2010_x86_64.whl (9.6MB)\n",
            "Requirement already satisfied: pillow in /usr/local/lib/python3.7/dist-packages (from object-detection==0.1) (7.1.2)\n",
            "Requirement already satisfied: lxml in /usr/local/lib/python3.7/dist-packages (from object-detection==0.1) (4.2.6)\n",
            "Requirement already satisfied: matplotlib in /usr/local/lib/python3.7/dist-packages (from object-detection==0.1) (3.2.2)\n",
            "Requirement already satisfied: Cython in /usr/local/lib/python3.7/dist-packages (from object-detection==0.1) (0.29.22)\n",
            "Requirement already satisfied: contextlib2 in /usr/local/lib/python3.7/dist-packages (from object-detection==0.1) (0.5.5)\n",
            "Collecting tf-slim\n",
            "  Downloading https://files.pythonhosted.org/packages/02/97/b0f4a64df018ca018cc035d44f2ef08f91e2e8aa67271f6f19633a015ff7/tf_slim-1.1.0-py2.py3-none-any.whl (352kB)\n",
            "Requirement already satisfied: six in /usr/local/lib/python3.7/dist-packages (from object-detection==0.1) (1.15.0)\n",
            "Requirement already satisfied: pycocotools in /usr/local/lib/python3.7/dist-packages (from object-detection==0.1) (2.0.2)\n",
            "Collecting lvis\n",
            "  Downloading https://files.pythonhosted.org/packages/72/b6/1992240ab48310b5360bfdd1d53163f43bb97d90dc5dc723c67d41c38e78/lvis-0.5.3-py3-none-any.whl\n",
            "Requirement already satisfied: scipy in /usr/local/lib/python3.7/dist-packages (from object-detection==0.1) (1.4.1)\n",
            "Requirement already satisfied: pandas in /usr/local/lib/python3.7/dist-packages (from object-detection==0.1) (1.1.5)\n",
            "Collecting tf-models-official\n",
            "  Downloading https://files.pythonhosted.org/packages/57/4a/23a08f8fd2747867ee223612e219eeb0d11c36116601d99b55ef3c72e707/tf_models_official-2.4.0-py2.py3-none-any.whl (1.1MB)\n",
            "Requirement already satisfied: crcmod<2.0,>=1.7 in /usr/local/lib/python3.7/dist-packages (from apache-beam->object-detection==0.1) (1.7)\n",
            "Collecting future<1.0.0,>=0.18.2\n",
            "  Downloading https://files.pythonhosted.org/packages/45/0b/38b06fd9b92dc2b68d58b75f900e97884c45bedd2ff83203d933cf5851c9/future-0.18.2.tar.gz (829kB)\n",
            "Requirement already satisfied: numpy<1.21.0,>=1.14.3 in /usr/local/lib/python3.7/dist-packages (from apache-beam->object-detection==0.1) (1.19.5)\n",
            "Requirement already satisfied: typing-extensions<3.8.0,>=3.7.0 in /usr/local/lib/python3.7/dist-packages (from apache-beam->object-detection==0.1) (3.7.4.3)\n",
            "Requirement already satisfied: pydot<2,>=1.2.0 in /usr/local/lib/python3.7/dist-packages (from apache-beam->object-detection==0.1) (1.3.0)\n",
            "Collecting fastavro<2,>=0.21.4\n",
            "  Downloading https://files.pythonhosted.org/packages/b6/26/cc1acc339eb1b8423c32b0a1dca524214012e577c22ce8fdd58d5213f9b4/fastavro-1.4.0-cp37-cp37m-manylinux2014_x86_64.whl (2.2MB)\n",
            "Requirement already satisfied: pyarrow<4.0.0,>=0.15.1 in /usr/local/lib/python3.7/dist-packages (from apache-beam->object-detection==0.1) (3.0.0)\n",
            "Collecting hdfs<3.0.0,>=2.1.0\n",
            "  Downloading https://files.pythonhosted.org/packages/08/f7/4c3fad73123a24d7394b6f40d1ec9c1cbf2e921cfea1797216ffd0a51fb1/hdfs-2.6.0-py3-none-any.whl\n",
            "Requirement already satisfied: grpcio<2,>=1.29.0 in /usr/local/lib/python3.7/dist-packages (from apache-beam->object-detection==0.1) (1.32.0)\n",
            "Requirement already satisfied: oauth2client<5,>=2.0.1 in /usr/local/lib/python3.7/dist-packages (from apache-beam->object-detection==0.1) (4.1.3)\n",
            "Requirement already satisfied: python-dateutil<3,>=2.8.0 in /usr/local/lib/python3.7/dist-packages (from apache-beam->object-detection==0.1) (2.8.1)\n",
            "Requirement already satisfied: pytz>=2018.3 in /usr/local/lib/python3.7/dist-packages (from apache-beam->object-detection==0.1) (2018.9)\n",
            "Requirement already satisfied: pymongo<4.0.0,>=3.8.0 in /usr/local/lib/python3.7/dist-packages (from apache-beam->object-detection==0.1) (3.11.3)\n",
            "Collecting requests<3.0.0,>=2.24.0\n",
            "  Downloading https://files.pythonhosted.org/packages/29/c1/24814557f1d22c56d50280771a17307e6bf87b70727d975fd6b2ce6b014a/requests-2.25.1-py2.py3-none-any.whl (61kB)\n",
            "Requirement already satisfied: protobuf<4,>=3.12.2 in /usr/local/lib/python3.7/dist-packages (from apache-beam->object-detection==0.1) (3.12.4)\n",
            "Requirement already satisfied: httplib2<0.18.0,>=0.8 in /usr/local/lib/python3.7/dist-packages (from apache-beam->object-detection==0.1) (0.17.4)\n",
            "Collecting dill<0.3.2,>=0.3.1.1\n",
            "  Downloading https://files.pythonhosted.org/packages/c7/11/345f3173809cea7f1a193bfbf02403fff250a3360e0e118a1630985e547d/dill-0.3.1.1.tar.gz (151kB)\n",
            "Requirement already satisfied: pyparsing!=2.0.4,!=2.1.2,!=2.1.6,>=2.0.1 in /usr/local/lib/python3.7/dist-packages (from matplotlib->object-detection==0.1) (2.4.7)\n",
            "Requirement already satisfied: cycler>=0.10 in /usr/local/lib/python3.7/dist-packages (from matplotlib->object-detection==0.1) (0.10.0)\n",
            "Requirement already satisfied: kiwisolver>=1.0.1 in /usr/local/lib/python3.7/dist-packages (from matplotlib->object-detection==0.1) (1.3.1)\n",
            "Requirement already satisfied: absl-py>=0.2.2 in /usr/local/lib/python3.7/dist-packages (from tf-slim->object-detection==0.1) (0.12.0)\n",
            "Requirement already satisfied: setuptools>=18.0 in /usr/local/lib/python3.7/dist-packages (from pycocotools->object-detection==0.1) (56.0.0)\n",
            "Requirement already satisfied: opencv-python>=4.1.0.25 in /usr/local/lib/python3.7/dist-packages (from lvis->object-detection==0.1) (4.1.2.30)\n",
            "Collecting py-cpuinfo>=3.3.0\n",
            "  Downloading https://files.pythonhosted.org/packages/e6/ba/77120e44cbe9719152415b97d5bfb29f4053ee987d6cb63f55ce7d50fadc/py-cpuinfo-8.0.0.tar.gz (99kB)\n",
            "Requirement already satisfied: psutil>=5.4.3 in /usr/local/lib/python3.7/dist-packages (from tf-models-official->object-detection==0.1) (5.4.8)\n",
            "Collecting sentencepiece\n",
            "  Downloading https://files.pythonhosted.org/packages/f5/99/e0808cb947ba10f575839c43e8fafc9cc44e4a7a2c8f79c60db48220a577/sentencepiece-0.1.95-cp37-cp37m-manylinux2014_x86_64.whl (1.2MB)\n",
            "Collecting tensorflow-addons\n",
            "  Downloading https://files.pythonhosted.org/packages/74/e3/56d2fe76f0bb7c88ed9b2a6a557e25e83e252aec08f13de34369cd850a0b/tensorflow_addons-0.12.1-cp37-cp37m-manylinux2010_x86_64.whl (703kB)\n",
            "Collecting dataclasses\n",
            "  Downloading https://files.pythonhosted.org/packages/26/2f/1095cdc2868052dd1e64520f7c0d5c8c550ad297e944e641dbf1ffbb9a5d/dataclasses-0.6-py3-none-any.whl\n",
            "Requirement already satisfied: tensorflow-datasets in /usr/local/lib/python3.7/dist-packages (from tf-models-official->object-detection==0.1) (4.0.1)\n",
            "Collecting pyyaml>=5.1\n",
            "  Downloading https://files.pythonhosted.org/packages/7a/a5/393c087efdc78091afa2af9f1378762f9821c9c1d7a22c5753fb5ac5f97a/PyYAML-5.4.1-cp37-cp37m-manylinux1_x86_64.whl (636kB)\n",
            "Requirement already satisfied: kaggle>=1.3.9 in /usr/local/lib/python3.7/dist-packages (from tf-models-official->object-detection==0.1) (1.5.12)\n",
            "Collecting opencv-python-headless\n",
            "  Downloading https://files.pythonhosted.org/packages/6d/6d/92f377bece9b0ec9c893081dbe073a65b38d7ac12ef572b8f70554d08760/opencv_python_headless-4.5.1.48-cp37-cp37m-manylinux2014_x86_64.whl (37.6MB)\n",
            "Requirement already satisfied: gin-config in /usr/local/lib/python3.7/dist-packages (from tf-models-official->object-detection==0.1) (0.4.0)\n",
            "Requirement already satisfied: tensorflow-hub>=0.6.0 in /usr/local/lib/python3.7/dist-packages (from tf-models-official->object-detection==0.1) (0.12.0)\n",
            "Requirement already satisfied: google-cloud-bigquery>=0.31.0 in /usr/local/lib/python3.7/dist-packages (from tf-models-official->object-detection==0.1) (1.21.0)\n",
            "Collecting tensorflow-model-optimization>=0.4.1\n",
            "  Downloading https://files.pythonhosted.org/packages/55/38/4fd48ea1bfcb0b6e36d949025200426fe9c3a8bfae029f0973d85518fa5a/tensorflow_model_optimization-0.5.0-py2.py3-none-any.whl (172kB)\n",
            "Collecting seqeval\n",
            "  Downloading https://files.pythonhosted.org/packages/9d/2d/233c79d5b4e5ab1dbf111242299153f3caddddbb691219f363ad55ce783d/seqeval-1.2.2.tar.gz (43kB)\n",
            "Requirement already satisfied: google-api-python-client>=1.6.7 in /usr/local/lib/python3.7/dist-packages (from tf-models-official->object-detection==0.1) (1.12.8)\n",
            "Requirement already satisfied: tensorflow>=2.4.0 in /usr/local/lib/python3.7/dist-packages (from tf-models-official->object-detection==0.1) (2.4.1)\n",
            "Requirement already satisfied: docopt in /usr/local/lib/python3.7/dist-packages (from hdfs<3.0.0,>=2.1.0->apache-beam->object-detection==0.1) (0.6.2)\n",
            "Requirement already satisfied: rsa>=3.1.4 in /usr/local/lib/python3.7/dist-packages (from oauth2client<5,>=2.0.1->apache-beam->object-detection==0.1) (4.7.2)\n",
            "Requirement already satisfied: pyasn1-modules>=0.0.5 in /usr/local/lib/python3.7/dist-packages (from oauth2client<5,>=2.0.1->apache-beam->object-detection==0.1) (0.2.8)\n",
            "Requirement already satisfied: pyasn1>=0.1.7 in /usr/local/lib/python3.7/dist-packages (from oauth2client<5,>=2.0.1->apache-beam->object-detection==0.1) (0.4.8)\n",
            "Requirement already satisfied: chardet<5,>=3.0.2 in /usr/local/lib/python3.7/dist-packages (from requests<3.0.0,>=2.24.0->apache-beam->object-detection==0.1) (3.0.4)\n",
            "Requirement already satisfied: idna<3,>=2.5 in /usr/local/lib/python3.7/dist-packages (from requests<3.0.0,>=2.24.0->apache-beam->object-detection==0.1) (2.10)\n",
            "Requirement already satisfied: certifi>=2017.4.17 in /usr/local/lib/python3.7/dist-packages (from requests<3.0.0,>=2.24.0->apache-beam->object-detection==0.1) (2020.12.5)\n",
            "Requirement already satisfied: urllib3<1.27,>=1.21.1 in /usr/local/lib/python3.7/dist-packages (from requests<3.0.0,>=2.24.0->apache-beam->object-detection==0.1) (1.24.3)\n",
            "Requirement already satisfied: typeguard>=2.7 in /usr/local/lib/python3.7/dist-packages (from tensorflow-addons->tf-models-official->object-detection==0.1) (2.7.1)\n",
            "Requirement already satisfied: importlib-resources; python_version < \"3.9\" in /usr/local/lib/python3.7/dist-packages (from tensorflow-datasets->tf-models-official->object-detection==0.1) (5.1.2)\n",
            "Requirement already satisfied: tqdm in /usr/local/lib/python3.7/dist-packages (from tensorflow-datasets->tf-models-official->object-detection==0.1) (4.41.1)\n",
            "Requirement already satisfied: termcolor in /usr/local/lib/python3.7/dist-packages (from tensorflow-datasets->tf-models-official->object-detection==0.1) (1.1.0)\n",
            "Requirement already satisfied: attrs>=18.1.0 in /usr/local/lib/python3.7/dist-packages (from tensorflow-datasets->tf-models-official->object-detection==0.1) (20.3.0)\n",
            "Requirement already satisfied: tensorflow-metadata in /usr/local/lib/python3.7/dist-packages (from tensorflow-datasets->tf-models-official->object-detection==0.1) (0.29.0)\n",
            "Requirement already satisfied: promise in /usr/local/lib/python3.7/dist-packages (from tensorflow-datasets->tf-models-official->object-detection==0.1) (2.3)\n",
            "Requirement already satisfied: dm-tree in /usr/local/lib/python3.7/dist-packages (from tensorflow-datasets->tf-models-official->object-detection==0.1) (0.1.6)\n",
            "Requirement already satisfied: python-slugify in /usr/local/lib/python3.7/dist-packages (from kaggle>=1.3.9->tf-models-official->object-detection==0.1) (4.0.1)\n",
            "Requirement already satisfied: google-resumable-media!=0.4.0,<0.5.0dev,>=0.3.1 in /usr/local/lib/python3.7/dist-packages (from google-cloud-bigquery>=0.31.0->tf-models-official->object-detection==0.1) (0.4.1)\n",
            "Requirement already satisfied: google-cloud-core<2.0dev,>=1.0.3 in /usr/local/lib/python3.7/dist-packages (from google-cloud-bigquery>=0.31.0->tf-models-official->object-detection==0.1) (1.0.3)\n",
            "Requirement already satisfied: scikit-learn>=0.21.3 in /usr/local/lib/python3.7/dist-packages (from seqeval->tf-models-official->object-detection==0.1) (0.22.2.post1)\n",
            "Requirement already satisfied: uritemplate<4dev,>=3.0.0 in /usr/local/lib/python3.7/dist-packages (from google-api-python-client>=1.6.7->tf-models-official->object-detection==0.1) (3.0.1)\n",
            "Requirement already satisfied: google-api-core<2dev,>=1.21.0 in /usr/local/lib/python3.7/dist-packages (from google-api-python-client>=1.6.7->tf-models-official->object-detection==0.1) (1.26.3)\n",
            "Requirement already satisfied: google-auth>=1.16.0 in /usr/local/lib/python3.7/dist-packages (from google-api-python-client>=1.6.7->tf-models-official->object-detection==0.1) (1.28.1)\n",
            "Requirement already satisfied: google-auth-httplib2>=0.0.3 in /usr/local/lib/python3.7/dist-packages (from google-api-python-client>=1.6.7->tf-models-official->object-detection==0.1) (0.0.4)\n",
            "Requirement already satisfied: keras-preprocessing~=1.1.2 in /usr/local/lib/python3.7/dist-packages (from tensorflow>=2.4.0->tf-models-official->object-detection==0.1) (1.1.2)\n",
            "Requirement already satisfied: wheel~=0.35 in /usr/local/lib/python3.7/dist-packages (from tensorflow>=2.4.0->tf-models-official->object-detection==0.1) (0.36.2)\n",
            "Requirement already satisfied: wrapt~=1.12.1 in /usr/local/lib/python3.7/dist-packages (from tensorflow>=2.4.0->tf-models-official->object-detection==0.1) (1.12.1)\n",
            "Requirement already satisfied: gast==0.3.3 in /usr/local/lib/python3.7/dist-packages (from tensorflow>=2.4.0->tf-models-official->object-detection==0.1) (0.3.3)\n",
            "Requirement already satisfied: google-pasta~=0.2 in /usr/local/lib/python3.7/dist-packages (from tensorflow>=2.4.0->tf-models-official->object-detection==0.1) (0.2.0)\n",
            "Requirement already satisfied: opt-einsum~=3.3.0 in /usr/local/lib/python3.7/dist-packages (from tensorflow>=2.4.0->tf-models-official->object-detection==0.1) (3.3.0)\n",
            "Requirement already satisfied: flatbuffers~=1.12.0 in /usr/local/lib/python3.7/dist-packages (from tensorflow>=2.4.0->tf-models-official->object-detection==0.1) (1.12)\n",
            "Requirement already satisfied: tensorboard~=2.4 in /usr/local/lib/python3.7/dist-packages (from tensorflow>=2.4.0->tf-models-official->object-detection==0.1) (2.4.1)\n",
            "Requirement already satisfied: h5py~=2.10.0 in /usr/local/lib/python3.7/dist-packages (from tensorflow>=2.4.0->tf-models-official->object-detection==0.1) (2.10.0)\n",
            "Requirement already satisfied: tensorflow-estimator<2.5.0,>=2.4.0 in /usr/local/lib/python3.7/dist-packages (from tensorflow>=2.4.0->tf-models-official->object-detection==0.1) (2.4.0)\n",
            "Requirement already satisfied: astunparse~=1.6.3 in /usr/local/lib/python3.7/dist-packages (from tensorflow>=2.4.0->tf-models-official->object-detection==0.1) (1.6.3)\n",
            "Requirement already satisfied: zipp>=0.4; python_version < \"3.8\" in /usr/local/lib/python3.7/dist-packages (from importlib-resources; python_version < \"3.9\"->tensorflow-datasets->tf-models-official->object-detection==0.1) (3.4.1)\n",
            "Requirement already satisfied: googleapis-common-protos<2,>=1.52.0 in /usr/local/lib/python3.7/dist-packages (from tensorflow-metadata->tensorflow-datasets->tf-models-official->object-detection==0.1) (1.53.0)\n",
            "Requirement already satisfied: text-unidecode>=1.3 in /usr/local/lib/python3.7/dist-packages (from python-slugify->kaggle>=1.3.9->tf-models-official->object-detection==0.1) (1.3)\n",
            "Requirement already satisfied: joblib>=0.11 in /usr/local/lib/python3.7/dist-packages (from scikit-learn>=0.21.3->seqeval->tf-models-official->object-detection==0.1) (1.0.1)\n",
            "Requirement already satisfied: packaging>=14.3 in /usr/local/lib/python3.7/dist-packages (from google-api-core<2dev,>=1.21.0->google-api-python-client>=1.6.7->tf-models-official->object-detection==0.1) (20.9)\n",
            "Requirement already satisfied: cachetools<5.0,>=2.0.0 in /usr/local/lib/python3.7/dist-packages (from google-auth>=1.16.0->google-api-python-client>=1.6.7->tf-models-official->object-detection==0.1) (4.2.1)\n",
            "Requirement already satisfied: google-auth-oauthlib<0.5,>=0.4.1 in /usr/local/lib/python3.7/dist-packages (from tensorboard~=2.4->tensorflow>=2.4.0->tf-models-official->object-detection==0.1) (0.4.4)\n",
            "Requirement already satisfied: tensorboard-plugin-wit>=1.6.0 in /usr/local/lib/python3.7/dist-packages (from tensorboard~=2.4->tensorflow>=2.4.0->tf-models-official->object-detection==0.1) (1.8.0)\n",
            "Requirement already satisfied: markdown>=2.6.8 in /usr/local/lib/python3.7/dist-packages (from tensorboard~=2.4->tensorflow>=2.4.0->tf-models-official->object-detection==0.1) (3.3.4)\n",
            "Requirement already satisfied: werkzeug>=0.11.15 in /usr/local/lib/python3.7/dist-packages (from tensorboard~=2.4->tensorflow>=2.4.0->tf-models-official->object-detection==0.1) (1.0.1)\n",
            "Requirement already satisfied: requests-oauthlib>=0.7.0 in /usr/local/lib/python3.7/dist-packages (from google-auth-oauthlib<0.5,>=0.4.1->tensorboard~=2.4->tensorflow>=2.4.0->tf-models-official->object-detection==0.1) (1.3.0)\n",
            "Requirement already satisfied: importlib-metadata; python_version < \"3.8\" in /usr/local/lib/python3.7/dist-packages (from markdown>=2.6.8->tensorboard~=2.4->tensorflow>=2.4.0->tf-models-official->object-detection==0.1) (3.10.1)\n",
            "Requirement already satisfied: oauthlib>=3.0.0 in /usr/local/lib/python3.7/dist-packages (from requests-oauthlib>=0.7.0->google-auth-oauthlib<0.5,>=0.4.1->tensorboard~=2.4->tensorflow>=2.4.0->tf-models-official->object-detection==0.1) (3.1.0)\n",
            "Building wheels for collected packages: object-detection, avro-python3, future, dill, py-cpuinfo, seqeval\n",
            "  Building wheel for object-detection (setup.py): started\n",
            "  Building wheel for object-detection (setup.py): finished with status 'done'\n",
            "  Created wheel for object-detection: filename=object_detection-0.1-cp37-none-any.whl size=1648391 sha256=0f9b93aca4eec2f88f73e112b38793b9d96331925d916897f25f57de142f8d2e\n",
            "  Stored in directory: /tmp/pip-ephem-wheel-cache-wk8ko1g_/wheels/94/49/4b/39b051683087a22ef7e80ec52152a27249d1a644ccf4e442ea\n",
            "  Building wheel for avro-python3 (setup.py): started\n",
            "  Building wheel for avro-python3 (setup.py): finished with status 'done'\n",
            "  Created wheel for avro-python3: filename=avro_python3-1.10.2-cp37-none-any.whl size=44011 sha256=6afa432281ee545e44440c2b23ae234b9c68201976fc8b35723fd968c66302e6\n",
            "  Stored in directory: /root/.cache/pip/wheels/ee/ee/18/c466221ca6900e3efce2f4ea9c329288808679aecdcb2838d3\n",
            "  Building wheel for future (setup.py): started\n",
            "  Building wheel for future (setup.py): finished with status 'done'\n",
            "  Created wheel for future: filename=future-0.18.2-cp37-none-any.whl size=491058 sha256=a7d45c704490537f9c25fba5892e40da527a11aa7a03a7774f56ac30115d3ea2\n",
            "  Stored in directory: /root/.cache/pip/wheels/8b/99/a0/81daf51dcd359a9377b110a8a886b3895921802d2fc1b2397e\n",
            "  Building wheel for dill (setup.py): started\n",
            "  Building wheel for dill (setup.py): finished with status 'done'\n",
            "  Created wheel for dill: filename=dill-0.3.1.1-cp37-none-any.whl size=78532 sha256=b8ef073b1769bbcc53326b3767139c85e8e124665ff3816461cbd1275b0ca586\n",
            "  Stored in directory: /root/.cache/pip/wheels/59/b1/91/f02e76c732915c4015ab4010f3015469866c1eb9b14058d8e7\n",
            "  Building wheel for py-cpuinfo (setup.py): started\n",
            "  Building wheel for py-cpuinfo (setup.py): finished with status 'done'\n",
            "  Created wheel for py-cpuinfo: filename=py_cpuinfo-8.0.0-cp37-none-any.whl size=22245 sha256=b0a077c3b85ad5beb40ccbf7a1d4b1f87eba7457f95ca75cceb64c23ee4da83e\n",
            "  Stored in directory: /root/.cache/pip/wheels/2e/15/f5/aa2a056d223903b52cf4870134e3a01df0c723816835dd08db\n",
            "  Building wheel for seqeval (setup.py): started\n",
            "  Building wheel for seqeval (setup.py): finished with status 'done'\n",
            "  Created wheel for seqeval: filename=seqeval-1.2.2-cp37-none-any.whl size=16172 sha256=f0736c58e62b8b439520edaba7740b54ffd99c6b4e718f83a15a0e48b1714d52\n",
            "  Stored in directory: /root/.cache/pip/wheels/52/df/1b/45d75646c37428f7e626214704a0e35bd3cfc32eda37e59e5f\n",
            "Successfully built object-detection avro-python3 future dill py-cpuinfo seqeval\n",
            "Installing collected packages: avro-python3, future, fastavro, requests, hdfs, dill, apache-beam, tf-slim, lvis, py-cpuinfo, sentencepiece, tensorflow-addons, dataclasses, pyyaml, opencv-python-headless, tensorflow-model-optimization, seqeval, tf-models-official, object-detection\n",
            "  Found existing installation: future 0.16.0\n",
            "    Uninstalling future-0.16.0:\n",
            "      Successfully uninstalled future-0.16.0\n",
            "  Found existing installation: requests 2.23.0\n",
            "    Uninstalling requests-2.23.0:\n",
            "      Successfully uninstalled requests-2.23.0\n",
            "  Found existing installation: dill 0.3.3\n",
            "    Uninstalling dill-0.3.3:\n",
            "      Successfully uninstalled dill-0.3.3\n",
            "  Found existing installation: PyYAML 3.13\n",
            "    Uninstalling PyYAML-3.13:\n",
            "      Successfully uninstalled PyYAML-3.13\n",
            "Successfully installed apache-beam-2.29.0 avro-python3-1.10.2 dataclasses-0.6 dill-0.3.1.1 fastavro-1.4.0 future-0.18.2 hdfs-2.6.0 lvis-0.5.3 object-detection-0.1 opencv-python-headless-4.5.1.48 py-cpuinfo-8.0.0 pyyaml-5.4.1 requests-2.25.1 sentencepiece-0.1.95 seqeval-1.2.2 tensorflow-addons-0.12.1 tensorflow-model-optimization-0.5.0 tf-models-official-2.4.0 tf-slim-1.1.0\n"
          ],
          "name": "stdout"
        },
        {
          "output_type": "stream",
          "text": [
            "ERROR: multiprocess 0.70.11.1 has requirement dill>=0.3.3, but you'll have dill 0.3.1.1 which is incompatible.\n",
            "ERROR: google-colab 1.0.0 has requirement requests~=2.23.0, but you'll have requests 2.25.1 which is incompatible.\n",
            "ERROR: datascience 0.10.6 has requirement folium==0.2.1, but you'll have folium 0.8.3 which is incompatible.\n",
            "ERROR: apache-beam 2.29.0 has requirement avro-python3!=1.9.2,<1.10.0,>=1.8.1, but you'll have avro-python3 1.10.2 which is incompatible.\n"
          ],
          "name": "stderr"
        }
      ]
    },
    {
      "cell_type": "code",
      "metadata": {
        "id": "Hs4i4qOXL-qT"
      },
      "source": [
        "import matplotlib\n",
        "import matplotlib.pyplot as plt\n",
        "\n",
        "import io\n",
        "import scipy.misc\n",
        "import numpy as np\n",
        "from six import BytesIO\n",
        "from PIL import Image, ImageDraw, ImageFont\n",
        "\n",
        "import tensorflow as tf\n",
        "\n",
        "from object_detection.utils import label_map_util\n",
        "from object_detection.utils import config_util\n",
        "from object_detection.utils import visualization_utils as viz_utils\n",
        "from object_detection.builders import model_builder\n",
        "\n",
        "%matplotlib inline"
      ],
      "execution_count": null,
      "outputs": []
    },
    {
      "cell_type": "code",
      "metadata": {
        "id": "ftiDQF_GMP74"
      },
      "source": [
        "def load_image_into_numpy_array(path):\n",
        "  \"\"\"Load an image from file into a numpy array.\n",
        "\n",
        "  Puts image into numpy array to feed into tensorflow graph.\n",
        "  Note that by convention we put it into a numpy array with shape\n",
        "  (height, width, channels), where channels=3 for RGB.\n",
        "\n",
        "  Args:\n",
        "    path: the file path to the image\n",
        "\n",
        "  Returns:\n",
        "    uint8 numpy array with shape (img_height, img_width, 3)\n",
        "  \"\"\"\n",
        "  img_data = tf.io.gfile.GFile(path, 'rb').read()\n",
        "  image = Image.open(BytesIO(img_data))\n",
        "  (im_width, im_height) = image.size\n",
        "  return np.array(image.getdata()).reshape(\n",
        "      (im_height, im_width, 3)).astype(np.uint8)"
      ],
      "execution_count": null,
      "outputs": []
    },
    {
      "cell_type": "code",
      "metadata": {
        "id": "YfNf-_AcSQI1",
        "colab": {
          "base_uri": "https://localhost:8080/"
        },
        "outputId": "e74115cc-e4ac-4fad-c59e-a1fba823c6a5"
      },
      "source": [
        "!wget http://download.tensorflow.org/models/object_detection/faster_rcnn_resnet101_coco_2018_01_28.tar.gz\n",
        "!tar -xvf faster_rcnn_resnet101_coco_2018_01_28.tar.gz"
      ],
      "execution_count": null,
      "outputs": [
        {
          "output_type": "stream",
          "text": [
            "--2021-05-06 11:27:41--  http://download.tensorflow.org/models/object_detection/faster_rcnn_resnet101_coco_2018_01_28.tar.gz\n",
            "Resolving download.tensorflow.org (download.tensorflow.org)... 74.125.23.128, 2404:6800:4008:c02::80\n",
            "Connecting to download.tensorflow.org (download.tensorflow.org)|74.125.23.128|:80... connected.\n",
            "HTTP request sent, awaiting response... 200 OK\n",
            "Length: 593445323 (566M) [application/x-tar]\n",
            "Saving to: ‘faster_rcnn_resnet101_coco_2018_01_28.tar.gz’\n",
            "\n",
            "faster_rcnn_resnet1 100%[===================>] 565.95M  67.4MB/s    in 9.0s    \n",
            "\n",
            "2021-05-06 11:27:51 (63.1 MB/s) - ‘faster_rcnn_resnet101_coco_2018_01_28.tar.gz’ saved [593445323/593445323]\n",
            "\n",
            "faster_rcnn_resnet101_coco_2018_01_28/\n",
            "faster_rcnn_resnet101_coco_2018_01_28/model.ckpt.index\n",
            "faster_rcnn_resnet101_coco_2018_01_28/checkpoint\n",
            "faster_rcnn_resnet101_coco_2018_01_28/pipeline.config\n",
            "faster_rcnn_resnet101_coco_2018_01_28/model.ckpt.data-00000-of-00001\n",
            "faster_rcnn_resnet101_coco_2018_01_28/model.ckpt.meta\n",
            "faster_rcnn_resnet101_coco_2018_01_28/saved_model/\n",
            "faster_rcnn_resnet101_coco_2018_01_28/saved_model/saved_model.pb\n",
            "faster_rcnn_resnet101_coco_2018_01_28/saved_model/variables/\n",
            "faster_rcnn_resnet101_coco_2018_01_28/frozen_inference_graph.pb\n"
          ],
          "name": "stdout"
        }
      ]
    },
    {
      "cell_type": "code",
      "metadata": {
        "id": "R2vJ1lxCSReM"
      },
      "source": [
        "PATH_TO_CKPT = \"faster_rcnn_resnet101_coco_2018_01_28\" + '/frozen_inference_graph.pb'"
      ],
      "execution_count": null,
      "outputs": []
    },
    {
      "cell_type": "code",
      "metadata": {
        "id": "-O-E3_K3MU9i"
      },
      "source": [
        "# List of the strings that is used to add correct label for each box.\n",
        "PATH_TO_LABELS = 'models/research/object_detection/data/mscoco_label_map.pbtxt'\n",
        "category_index = label_map_util.create_category_index_from_labelmap(PATH_TO_LABELS, use_display_name=True)"
      ],
      "execution_count": null,
      "outputs": []
    },
    {
      "cell_type": "code",
      "metadata": {
        "id": "qhDE2Ui1OJCS"
      },
      "source": [
        "detection_graph = tf.Graph()\n",
        "with detection_graph.as_default():\n",
        "  od_graph_def = tf.compat.v1.GraphDef()  \n",
        "  with tf.compat.v2.io.gfile.GFile(PATH_TO_CKPT, 'rb') as fid:\n",
        "    serialized_graph = fid.read()\n",
        "    od_graph_def.ParseFromString(serialized_graph)\n",
        "    tf.import_graph_def(od_graph_def, name='')"
      ],
      "execution_count": null,
      "outputs": []
    },
    {
      "cell_type": "code",
      "metadata": {
        "id": "Yuq15-VqNNbX"
      },
      "source": [
        "import sys\n",
        "import itertools\n",
        "import cv2\n",
        "import numpy as np\n",
        "from PIL import Image\n",
        "from numpy import asarray\n",
        "from numpy import expand_dims\n",
        "import tensorflow as tf\n",
        "import matplotlib.pyplot as plt\n",
        "from keras.utils import to_categorical\n",
        "from tensorflow.keras.applications import VGG16\n",
        "from tensorflow.keras.applications.resnet50 import ResNet50, preprocess_input\n",
        "from keras.callbacks import EarlyStopping\n",
        "from keras.models import Model, Sequential\n",
        "from keras.layers import Dense, Lambda\n",
        "from keras.layers import Flatten, BatchNormalization\n",
        "from keras.layers import Dropout\n",
        "from keras.optimizers import SGD, Adam\n",
        "from keras.preprocessing.image import ImageDataGenerator\n",
        "from sklearn.metrics import classification_report, confusion_matrix"
      ],
      "execution_count": null,
      "outputs": []
    },
    {
      "cell_type": "code",
      "metadata": {
        "id": "1dZO--qROxZ2"
      },
      "source": [
        "# Label names for class numbers\n",
        "#pose_rep={0: 'bending',\n",
        " #1: 'fallen',\n",
        " #2: 'falling',\n",
        " #3: 'getting_up',\n",
        " #4: 'laying_down',\n",
        " #5: 'standing',\n",
        " #6: 'walking'}"
      ],
      "execution_count": null,
      "outputs": []
    },
    {
      "cell_type": "code",
      "metadata": {
        "id": "Jq3OPqMAcFVD"
      },
      "source": [
        "# Label names for class numbers\n",
        "pose_rep={0: 'fallen',\n",
        " 1: 'falling', \n",
        " 2: 'standing'}"
      ],
      "execution_count": null,
      "outputs": []
    },
    {
      "cell_type": "code",
      "metadata": {
        "id": "4Bn-FKesUHpM"
      },
      "source": [
        "import glob, shutil\n",
        "for file in glob.glob('/content/drive/MyDrive/FallNet/walking/*.jpg'):\n",
        "  shutil.move(file, '/content/drive/MyDrive/FallNet/standing' )"
      ],
      "execution_count": null,
      "outputs": []
    },
    {
      "cell_type": "code",
      "metadata": {
        "id": "jsRMXB0VMeZi"
      },
      "source": [
        "#train test split\n",
        "!pip install split-folders"
      ],
      "execution_count": null,
      "outputs": []
    },
    {
      "cell_type": "code",
      "metadata": {
        "colab": {
          "base_uri": "https://localhost:8080/"
        },
        "id": "9LXaQX6HMb5Q",
        "outputId": "1dc3709d-cf4f-4db5-a0eb-965f1f10fc41"
      },
      "source": [
        "import splitfolders  # or import split_folders\n",
        "\n",
        "# Split with a ratio.\n",
        "# To only split into training and validation set, set a tuple to `ratio`, i.e, `(.8, .2)`.\n",
        "splitfolders.ratio(\"/content/drive/MyDrive/FallNet\", output=\"/content/drive/MyDrive/FallNet\", seed=1337, ratio=(.8, .2), group_prefix=None) # default values"
      ],
      "execution_count": null,
      "outputs": [
        {
          "output_type": "stream",
          "text": [
            "Copying files: 4010 files [00:53, 74.86 files/s]\n"
          ],
          "name": "stderr"
        }
      ]
    },
    {
      "cell_type": "code",
      "metadata": {
        "colab": {
          "base_uri": "https://localhost:8080/"
        },
        "id": "2dtO1e88M9ds",
        "outputId": "e3b50f52-2c3d-4ebe-ab54-13cf41d8022a"
      },
      "source": [
        "datagen = ImageDataGenerator(featurewise_center=True)\n",
        "train_it = datagen.flow_from_directory('/content/drive/MyDrive/FallNet/val', batch_size = 32)\n",
        "train_it.class_indices"
      ],
      "execution_count": null,
      "outputs": [
        {
          "output_type": "stream",
          "text": [
            "Found 803 images belonging to 3 classes.\n"
          ],
          "name": "stdout"
        },
        {
          "output_type": "execute_result",
          "data": {
            "text/plain": [
              "{'fallen': 0, 'falling': 1, 'standing': 2}"
            ]
          },
          "metadata": {
            "tags": []
          },
          "execution_count": 12
        }
      ]
    },
    {
      "cell_type": "code",
      "metadata": {
        "id": "tfnArKOjQB-0"
      },
      "source": [
        "!rm -rf '/content/drive/MyDrive/FallNet/train/.ipynb_checkpoints/'"
      ],
      "execution_count": null,
      "outputs": []
    },
    {
      "cell_type": "code",
      "metadata": {
        "id": "dKHU-_qQSb9O"
      },
      "source": [
        "def define_model():\n",
        "    model = ResNet50(weights='imagenet', include_top = False, input_shape=(224,224, 3), pooling='avg')\n",
        "    model.trainable = False\n",
        "    flat1 = Flatten()(model.layers[-1].output)\n",
        "    #drop1 = Dropout(0.3)(flat1)\n",
        "    class1 = Dense(64, activation='relu', kernel_regularizer='l2')(flat1)\n",
        "    drop = Dropout(0.2)(class1)\n",
        "    output = Dense(3, activation='softmax')(drop)\n",
        "\t# define new model\n",
        "    model = Model(inputs=model.inputs, outputs=output)\n",
        "\t# compile model\n",
        "    opt = Adam(lr=0.001)\n",
        "    #loss = tf.keras.losses.BinaryCrossentropy()\n",
        "    model.compile(optimizer=opt, loss='categorical_crossentropy', metrics=['accuracy'])\n",
        "    return model"
      ],
      "execution_count": null,
      "outputs": []
    },
    {
      "cell_type": "code",
      "metadata": {
        "id": "s75dDqrUxcq6"
      },
      "source": [
        "model = define_model()\n",
        "model.summary()"
      ],
      "execution_count": null,
      "outputs": []
    },
    {
      "cell_type": "code",
      "metadata": {
        "id": "aiLLdxKfSdM_"
      },
      "source": [
        "def summarize_diagnostics(history):\n",
        "\t# plot loss\n",
        "\tplt.subplot(211)\n",
        "\tplt.title('Cross Entropy Loss')\n",
        "\tplt.plot(history.history['loss'], color='blue', label='train')\n",
        "\tplt.plot(history.history['val_loss'], color='orange', label='test')\n",
        "\t# plot accuracy\n",
        "\tplt.subplot(212)\n",
        "\tplt.title('Classification Accuracy')\n",
        "\tplt.plot(history.history['accuracy'], color='blue', label='train')\n",
        "\tplt.plot(history.history['val_accuracy'], color='orange', label='test')\n",
        "\tplt.legend()\n",
        "\t#filename = sys.argv[0].split('/')[-1]\n",
        "\t#plt.savefig(filename + '_plot.png')\n",
        "\tplt.show()"
      ],
      "execution_count": null,
      "outputs": []
    },
    {
      "cell_type": "code",
      "metadata": {
        "id": "atandsV0SeLP"
      },
      "source": [
        "def plot_confusion_matrix(cm, classes,\n",
        "                          normalize=False,\n",
        "                          title='Confusion matrix',\n",
        "                          cmap=plt.cm.Blues):\n",
        "    \"\"\"\n",
        "    This function prints and plots the confusion matrix.\n",
        "    Normalization can be applied by setting `normalize=True`.\n",
        "    \"\"\"\n",
        "    if normalize:\n",
        "        cm = cm.astype('float') / cm.sum(axis=1)[:, np.newaxis]\n",
        "        print(\"Normalized confusion matrix\")\n",
        "    else:\n",
        "        print('Confusion matrix, without normalization')\n",
        "\n",
        "    print(cm)\n",
        "\n",
        "    plt.imshow(cm, interpolation='nearest', cmap=cmap)\n",
        "    plt.title(title)\n",
        "    plt.colorbar()\n",
        "    tick_marks = np.arange(len(classes))\n",
        "    plt.xticks(tick_marks, classes, rotation=45)\n",
        "    plt.yticks(tick_marks, classes)\n",
        "\n",
        "    fmt = '.2f' if normalize else 'd'\n",
        "    thresh = cm.max() / 2.\n",
        "    for i, j in itertools.product(range(cm.shape[0]), range(cm.shape[1])):\n",
        "        plt.text(j, i, format(cm[i, j], fmt),\n",
        "                 horizontalalignment=\"center\",\n",
        "                 color=\"white\" if cm[i, j] > thresh else \"black\")\n",
        "\n",
        "    plt.tight_layout()\n",
        "    plt.ylabel('True label')\n",
        "    plt.xlabel('Predicted label')"
      ],
      "execution_count": null,
      "outputs": []
    },
    {
      "cell_type": "code",
      "metadata": {
        "id": "J9uHgF_kSgh5"
      },
      "source": [
        "def run_test_harness():\n",
        "\t# define model\n",
        "    model = define_model()\n",
        "\t# create data generator\n",
        "    datagen = ImageDataGenerator(featurewise_center=True)\n",
        "\t# prepare iterator\n",
        "    train_it = datagen.flow_from_directory('/content/drive/MyDrive/FallNet/train', batch_size = 32, shuffle =False)\n",
        "    test_it = datagen.flow_from_directory('/content/drive/MyDrive/FallNet/val', batch_size = 32, shuffle = False)\n",
        "\t# fit model\n",
        "    history = model.fit_generator(train_it, steps_per_epoch=len(train_it),\n",
        "                                  validation_data=test_it, validation_steps=len(test_it), epochs=10, verbose=1)\n",
        "    # evaluate model on training set\n",
        "    _, acc1 = model.evaluate_generator(train_it, steps=len(train_it), verbose=0)\n",
        "    print('> %.3f' % (acc1 * 100.0))\n",
        "\t# evaluate model on testing set\n",
        "    _, acc2 = model.evaluate_generator(test_it, steps=len(test_it), verbose=0)\n",
        "    print('> %.3f' % (acc2 * 100.0))\n",
        "  # learning curves\n",
        "    summarize_diagnostics(history)\n",
        "\n",
        "    Y_pred_train = model.predict(train_it, workers = 0)\n",
        "    y_pred_train = np.argmax(Y_pred_train, axis=1)\n",
        "    preds = train_it.classes[train_it.index_array]\n",
        "    classLabels = list(train_it.class_indices.keys())\n",
        "    print('Confusion Matrix Train')\n",
        "    cnf_matrix = confusion_matrix(preds, y_pred_train)\n",
        "    print(plot_confusion_matrix(cnf_matrix, classes=classLabels, normalize= False,  title='Confusion matrix Train'))\n",
        "\n",
        "    print('\\n')\n",
        "    \n",
        "    plt.figure()\n",
        "    Y_pred_test = model.predict(test_it, workers = 0)\n",
        "    preds = np.argmax(Y_pred_test, axis=1)\n",
        "    trueClass = test_it.classes[test_it.index_array]\n",
        "    classLabels = list(test_it.class_indices.keys())\n",
        "    print('Confusion Matrix Test')\n",
        "    cnf_matrix1 = confusionMatrix = (confusion_matrix(y_true=trueClass,y_pred=preds))\n",
        "    print(plot_confusion_matrix(cnf_matrix1, classes=classLabels, normalize= False,  title='Confusion matrix Val'))\n",
        "\n",
        "    # Save model for later use\n",
        "    tf.keras.models.save_model(model,'/content/drive/My Drive/fallingnet_testv5.h5')\n"
      ],
      "execution_count": null,
      "outputs": []
    },
    {
      "cell_type": "code",
      "metadata": {
        "colab": {
          "base_uri": "https://localhost:8080/",
          "height": 1000
        },
        "id": "L6ZesG_1pSkM",
        "outputId": "884aa40a-06bb-4b6d-e9a8-b2b375ae6616"
      },
      "source": [
        "run_test_harness()"
      ],
      "execution_count": null,
      "outputs": [
        {
          "output_type": "stream",
          "text": [
            "Found 3207 images belonging to 3 classes.\n",
            "Found 803 images belonging to 3 classes.\n"
          ],
          "name": "stdout"
        },
        {
          "output_type": "stream",
          "text": [
            "/usr/local/lib/python3.7/dist-packages/tensorflow/python/keras/engine/training.py:1844: UserWarning: `Model.fit_generator` is deprecated and will be removed in a future version. Please use `Model.fit`, which supports generators.\n",
            "  warnings.warn('`Model.fit_generator` is deprecated and '\n",
            "/usr/local/lib/python3.7/dist-packages/keras_preprocessing/image/image_data_generator.py:720: UserWarning: This ImageDataGenerator specifies `featurewise_center`, but it hasn't been fit on any training data. Fit it first by calling `.fit(numpy_data)`.\n",
            "  warnings.warn('This ImageDataGenerator specifies '\n"
          ],
          "name": "stderr"
        },
        {
          "output_type": "stream",
          "text": [
            "Epoch 1/10\n",
            "101/101 [==============================] - 40s 357ms/step - loss: 3.0754 - accuracy: 0.3679 - val_loss: 1.3825 - val_accuracy: 0.7572\n",
            "Epoch 2/10\n",
            "101/101 [==============================] - 35s 343ms/step - loss: 1.3940 - accuracy: 0.6869 - val_loss: 1.1571 - val_accuracy: 0.6961\n",
            "Epoch 3/10\n",
            "101/101 [==============================] - 35s 343ms/step - loss: 1.0966 - accuracy: 0.7278 - val_loss: 0.9443 - val_accuracy: 0.7584\n",
            "Epoch 4/10\n",
            "101/101 [==============================] - 35s 343ms/step - loss: 0.9147 - accuracy: 0.7593 - val_loss: 0.9228 - val_accuracy: 0.7248\n",
            "Epoch 5/10\n",
            "101/101 [==============================] - 35s 342ms/step - loss: 0.8330 - accuracy: 0.7633 - val_loss: 0.6746 - val_accuracy: 0.8269\n",
            "Epoch 6/10\n",
            "101/101 [==============================] - 35s 342ms/step - loss: 0.7275 - accuracy: 0.7845 - val_loss: 0.6274 - val_accuracy: 0.8182\n",
            "Epoch 7/10\n",
            "101/101 [==============================] - 35s 342ms/step - loss: 0.7649 - accuracy: 0.7638 - val_loss: 0.6285 - val_accuracy: 0.8144\n",
            "Epoch 8/10\n",
            "101/101 [==============================] - 35s 343ms/step - loss: 0.6170 - accuracy: 0.8187 - val_loss: 0.6355 - val_accuracy: 0.7945\n",
            "Epoch 9/10\n",
            "101/101 [==============================] - 35s 343ms/step - loss: 0.6140 - accuracy: 0.8163 - val_loss: 0.5761 - val_accuracy: 0.8257\n",
            "Epoch 10/10\n",
            "101/101 [==============================] - 35s 343ms/step - loss: 0.5768 - accuracy: 0.8293 - val_loss: 0.6112 - val_accuracy: 0.8144\n"
          ],
          "name": "stdout"
        },
        {
          "output_type": "stream",
          "text": [
            "/usr/local/lib/python3.7/dist-packages/tensorflow/python/keras/engine/training.py:1877: UserWarning: `Model.evaluate_generator` is deprecated and will be removed in a future version. Please use `Model.evaluate`, which supports generators.\n",
            "  warnings.warn('`Model.evaluate_generator` is deprecated and '\n"
          ],
          "name": "stderr"
        },
        {
          "output_type": "stream",
          "text": [
            "> 82.632\n",
            "> 81.445\n"
          ],
          "name": "stdout"
        },
        {
          "output_type": "display_data",
          "data": {
            "image/png": "[encoded data removed]",
            "text/plain": [
              "<Figure size 432x288 with 2 Axes>"
            ]
          },
          "metadata": {
            "tags": [],
            "needs_background": "light"
          }
        },
        {
          "output_type": "stream",
          "text": [
            "Confusion Matrix Train\n",
            "Confusion matrix, without normalization\n",
            "[[1003   38    0]\n",
            " [ 228  775   69]\n",
            " [  18  204  872]]\n",
            "None\n",
            "\n",
            "\n",
            "Confusion Matrix Test\n",
            "Confusion matrix, without normalization\n",
            "[[249  12   0]\n",
            " [ 54 203  11]\n",
            " [  6  66 202]]\n",
            "None\n"
          ],
          "name": "stdout"
        },
        {
          "output_type": "display_data",
          "data": {
            "image/png": "[encoded data removed]",
            "text/plain": [
              "<Figure size 432x288 with 2 Axes>"
            ]
          },
          "metadata": {
            "tags": [],
            "needs_background": "light"
          }
        },
        {
          "output_type": "display_data",
          "data": {
            "image/png": "[encoded data removed]",
            "text/plain": [
              "<Figure size 432x288 with 2 Axes>"
            ]
          },
          "metadata": {
            "tags": [],
            "needs_background": "light"
          }
        }
      ]
    },
    {
      "cell_type": "code",
      "metadata": {
        "id": "5p5Uz-TvSjDT"
      },
      "source": [
        "from keras.preprocessing.image import load_img\n",
        "from keras.preprocessing.image import img_to_array\n",
        "from keras.preprocessing.image import array_to_img\n",
        "\n",
        "def pose_infer(image):\n",
        "  model = define_model()\n",
        "  #image = load_img(image,target_size=(224, 224))\n",
        "  image = img_to_array(image)\n",
        "  # reshape data for the model\n",
        "  image = np.resize(image, (1,224,224,3))\n",
        "  # prepare the image for the Resnet model\n",
        "  image = preprocess_input(image)\n",
        "  yhat = model.predict(image)\n",
        "  #yhat = yhat.argmax()\n",
        "  return yhat\n"
      ],
      "execution_count": null,
      "outputs": []
    },
    {
      "cell_type": "code",
      "metadata": {
        "id": "6GfFPrvaSrHw"
      },
      "source": [
        "import time\n",
        "from scipy.ndimage.filters import gaussian_filter\n",
        "import cv2\n",
        "from PIL import Image\n",
        "import numpy as np\n",
        "from google.colab.patches import cv2_imshow\n"
      ],
      "execution_count": null,
      "outputs": []
    },
    {
      "cell_type": "code",
      "metadata": {
        "id": "TYuXANgxhD4Q"
      },
      "source": [
        "from tensorflow.python.keras.backend import set_session\n",
        "from tensorflow.python.keras.models import load_model\n",
        "\n"
      ],
      "execution_count": null,
      "outputs": []
    },
    {
      "cell_type": "code",
      "metadata": {
        "id": "TS4YGHR1StmQ"
      },
      "source": [
        "def inference_on_video(filename, output_seconds=3600):\n",
        "    output_filename = f\"output_of_{filename}\"\n",
        "    codec = cv2.VideoWriter_fourcc(*'XVID')\n",
        "    #codec = cv2.VideoWriter_fourcc( *\"MP4V\" )\n",
        "    cap = cv2.VideoCapture(filename)\n",
        "    framerate = round(cap.get(5),2)\n",
        "    w = int(cap.get(3))\n",
        "    h = int(cap.get(4))\n",
        "    resolution = (w, h)\n",
        "\n",
        "    VideoFileOutput = cv2.VideoWriter('/content/drive/MyDrive/outy.mp4', codec, framerate, resolution)  \n",
        "\n",
        "    print('Framerate:', framerate)\n",
        "\n",
        "    frames = 0\n",
        "\n",
        "    with detection_graph.as_default():\n",
        "        with tf.compat.v1.Session() as sess:\n",
        "            model = load_model('/content/drive/My Drive/fallingnet_testv5.h5')\n",
        "            while cap.isOpened() and frames <= framerate * output_seconds:\n",
        "\n",
        "                start = time.time()\n",
        "                ret, image_np = cap.read()\n",
        "                if not ret:\n",
        "                  break\n",
        "\n",
        "                rgb = cv2.cvtColor(image_np, cv2.COLOR_BGR2RGB)\n",
        "\n",
        "                # Actual detection.\n",
        "                ops = tf.compat.v1.get_default_graph().get_operations()\n",
        "                all_tensor_names = {output.name for op in ops for output in op.outputs}\n",
        "                tensor_dict = {}\n",
        "                for key in [\n",
        "                    'num_detections', 'detection_boxes', 'detection_scores',\n",
        "                    'detection_classes', 'detection_masks'\n",
        "                ]:\n",
        "                  tensor_name = key + ':0'\n",
        "                  if tensor_name in all_tensor_names:\n",
        "                    tensor_dict[key] = tf.compat.v1.get_default_graph().get_tensor_by_name(\n",
        "                        tensor_name)\n",
        "                if 'detection_masks' in tensor_dict:\n",
        "                  # The following processing is only for single image\n",
        "                  detection_boxes = tf.squeeze(tensor_dict['detection_boxes'], [0])\n",
        "                  detection_masks = tf.squeeze(tensor_dict['detection_masks'], [0])\n",
        "                  # Reframe is required to translate mask from box coordinates to image coordinates and fit the image size.\n",
        "                  real_num_detection = tf.cast(tensor_dict['num_detections'][0], tf.int32)\n",
        "                  detection_boxes = tf.slice(detection_boxes, [0, 0], [real_num_detection, -1])\n",
        "                  detection_masks = tf.slice(detection_masks, [0, 0, 0], [real_num_detection, -1, -1])\n",
        "                  detection_masks_reframed = utils_ops.reframe_box_masks_to_image_masks(\n",
        "                      detection_masks, detection_boxes, image_np.shape[0], image_np.shape[1])\n",
        "                  detection_masks_reframed = tf.cast(\n",
        "                      tf.greater(detection_masks_reframed, 0.5), tf.uint8)\n",
        "                  # Follow the convention by adding back the batch dimension\n",
        "                  tensor_dict['detection_masks'] = tf.expand_dims(\n",
        "                      detection_masks_reframed, 0)\n",
        "                image_tensor = tf.compat.v1.get_default_graph().get_tensor_by_name('image_tensor:0')\n",
        "\n",
        "                # Run inference\n",
        "                output_dict = sess.run(tensor_dict,\n",
        "                                      feed_dict={image_tensor: np.expand_dims(image_np, 0)})\n",
        "\n",
        "                # all outputs are float32 numpy arrays, so convert types as appropriate\n",
        "                output_dict['num_detections'] = int(output_dict['num_detections'][0])\n",
        "                output_dict['detection_classes'] = output_dict[\n",
        "                    'detection_classes'][0].astype(np.uint8)\n",
        "                output_dict['detection_boxes'] = output_dict['detection_boxes'][0]\n",
        "                output_dict['detection_scores'] = output_dict['detection_scores'][0]\n",
        "                if 'detection_masks' in output_dict:\n",
        "                  output_dict['detection_masks'] = output_dict['detection_masks'][0]\n",
        "\n",
        "\n",
        "                # Visualization of the results of a detection.\n",
        "                # Cropping each picture of humans detected.\n",
        "                rects = []\n",
        "                for i, class_id in enumerate(output_dict['detection_classes']):\n",
        "                  if class_id == 1 and output_dict['detection_scores'][i] > 0.6: # 60% Person\n",
        "                    y1, x1, y2, x2 = output_dict['detection_boxes'][i]\n",
        "                    x1 *= image_np.shape[1]\n",
        "                    x2 *= image_np.shape[1]\n",
        "                    y1 *= image_np.shape[0]\n",
        "                    y2 *= image_np.shape[0]\n",
        "                    rects.append([int(x1), int(y1), int(x2), int(y2)])\n",
        "                    person_cropped = image_np[int(y1):int(y2), int(x1):int(x2),:]\n",
        "                    person_cropped = array_to_img(person_cropped)\n",
        "                    image = img_to_array(person_cropped)\n",
        "                    # reshape data for the model\n",
        "                    image = np.resize(image, (1,224,224,3))\n",
        "                    # prepare the image for the Resnet model\n",
        "                    image = preprocess_input(image)\n",
        "                    pose = model.predict(image, workers = 0)\n",
        "\n",
        "                    x1 = int(x1)\n",
        "                    x2 = int(x2)\n",
        "                    y1 = int(y1)\n",
        "                    y2 = int(y2)\n",
        "\n",
        "                    ### INSERT YOUR LOGIC HERE FOR EACH CROPPED PERSON ###\n",
        "                    #pose = pose_infer(person_cropped) #gets pose number from model prediction\n",
        "                    name=pose_rep[np.argmax(pose)]\n",
        "                    cv2.rectangle(image_np,(x1,y1),(x2,y2),(0,255,0), 2)\n",
        "                    image_np=cv2.putText(image_np,name,(x1,y1-10),cv2.FONT_HERSHEY_SIMPLEX,1,(255,0,255),2,cv2.LINE_AA)\n",
        "                    image_np=cv2.putText(image_np,str(np.max(pose)),(x1,y1+10),cv2.FONT_HERSHEY_SIMPLEX,0.5,(0,0,255),1,cv2.LINE_AA)\n",
        "                    #cv2_imshow(image_np)\n",
        "\n",
        "                VideoFileOutput.write(image_np)\n",
        "                \n",
        "                if frames % framerate == 0:\n",
        "                  print(f'Frame {frames} ({frames/framerate :.4} seconds) Done in: {round(time.time() - start, 2)} s')\n",
        "                  \n",
        "                frames += 1\n",
        "\n",
        "    cap.release()\n",
        "    VideoFileOutput.release()\n",
        "    print('done')"
      ],
      "execution_count": null,
      "outputs": []
    },
    {
      "cell_type": "code",
      "metadata": {
        "colab": {
          "base_uri": "https://localhost:8080/"
        },
        "id": "QZ6LZk1mPwdp",
        "outputId": "54689274-8664-47fd-e39e-9f96b2df595d"
      },
      "source": [
        "inference_on_video('/content/drive/MyDrive/slip.mp4')"
      ],
      "execution_count": null,
      "outputs": [
        {
          "output_type": "stream",
          "text": [
            "Framerate: 15.0\n",
            "Frame 0 (0.0 seconds) Done in: 5.22 s\n",
            "Frame 15 (1.0 seconds) Done in: 0.42 s\n",
            "Frame 30 (2.0 seconds) Done in: 0.43 s\n",
            "Frame 45 (3.0 seconds) Done in: 0.42 s\n",
            "Frame 60 (4.0 seconds) Done in: 0.43 s\n",
            "Frame 75 (5.0 seconds) Done in: 0.43 s\n"
          ],
          "name": "stdout"
        },
        {
          "output_type": "stream",
          "text": [
            "/usr/local/lib/python3.7/dist-packages/tensorflow/python/keras/engine/training.py:2325: UserWarning: `Model.state_updates` will be removed in a future version. This property should not be used in TensorFlow 2.0, as `updates` are applied automatically.\n",
            "  warnings.warn('`Model.state_updates` will be removed in a future version. '\n"
          ],
          "name": "stderr"
        },
        {
          "output_type": "stream",
          "text": [
            "Frame 90 (6.0 seconds) Done in: 0.45 s\n",
            "Frame 105 (7.0 seconds) Done in: 0.47 s\n",
            "Frame 120 (8.0 seconds) Done in: 0.47 s\n",
            "Frame 135 (9.0 seconds) Done in: 0.48 s\n",
            "Frame 150 (10.0 seconds) Done in: 0.46 s\n",
            "Frame 165 (11.0 seconds) Done in: 0.48 s\n",
            "Frame 180 (12.0 seconds) Done in: 0.46 s\n",
            "Frame 195 (13.0 seconds) Done in: 0.45 s\n",
            "Frame 210 (14.0 seconds) Done in: 0.45 s\n",
            "Frame 225 (15.0 seconds) Done in: 0.45 s\n",
            "Frame 240 (16.0 seconds) Done in: 0.45 s\n",
            "Frame 255 (17.0 seconds) Done in: 0.45 s\n",
            "Frame 270 (18.0 seconds) Done in: 0.47 s\n",
            "Frame 285 (19.0 seconds) Done in: 0.45 s\n",
            "Frame 300 (20.0 seconds) Done in: 0.46 s\n",
            "Frame 315 (21.0 seconds) Done in: 0.46 s\n",
            "done\n"
          ],
          "name": "stdout"
        }
      ]
    }
  ]
}