{
  "nbformat": 4,
  "nbformat_minor": 0,
  "metadata": {
    "accelerator": "GPU",
    "colab": {
      "name": "Eng-to-Ara.ipynb",
      "provenance": [],
      "collapsed_sections": []
    },
    "kernelspec": {
      "display_name": "Python 3",
      "name": "python3"
    },
    "language_info": {
      "name": "python"
    }
  },
  "cells": [
    {
      "cell_type": "code",
      "metadata": {
        "id": "aQ7RtsPlJZ1W"
      },
      "source": [
        "import os, sys\n",
        "\n",
        "from keras.models import Model\n",
        "from keras.layers import Input, LSTM, GRU, Dense, Embedding\n",
        "from keras.preprocessing.text import Tokenizer\n",
        "from keras.preprocessing.sequence import pad_sequences\n",
        "from keras.utils import to_categorical\n",
        "import numpy as np\n",
        "import matplotlib.pyplot as plt\n",
        "\n",
        "import warnings\n",
        "warnings.filterwarnings('ignore')"
      ],
      "execution_count": null,
      "outputs": []
    },
    {
      "cell_type": "code",
      "metadata": {
        "id": "uEFUoSoCJkJu"
      },
      "source": [
        "BATCH_SIZE = 64\n",
        "EPOCHS = 10\n",
        "LSTM_NODES =256\n",
        "NUM_SENTENCES = 11668\n",
        "MAX_SENTENCE_LENGTH = 50\n",
        "MAX_NUM_WORDS = 15000\n",
        "EMBEDDING_SIZE = 300"
      ],
      "execution_count": null,
      "outputs": []
    },
    {
      "cell_type": "code",
      "metadata": {
        "colab": {
          "base_uri": "https://localhost:8080/"
        },
        "id": "lZHak7mNJtK0",
        "outputId": "8d872278-77e9-4ef3-cc23-98683c05ae82"
      },
      "source": [
        "!!curl -O http://www.manythings.org/anki/ara-eng.zip\n",
        "!!unzip ara-eng.zip"
      ],
      "execution_count": null,
      "outputs": [
        {
          "output_type": "execute_result",
          "data": {
            "text/plain": [
              "['Archive:  ara-eng.zip',\n",
              " '  inflating: _about.txt              ',\n",
              " '  inflating: ara.txt                 ']"
            ]
          },
          "metadata": {
            "tags": []
          },
          "execution_count": 3
        }
      ]
    },
    {
      "cell_type": "code",
      "metadata": {
        "id": "c6CA9cReKgWW"
      },
      "source": [
        "f = open(\"/content/ara.txt\", \"r\")\n",
        "g = open(\"/content/fixed_ara.txt\", \"w\")\n",
        "\n",
        "for line in f:\n",
        "    if line.strip():\n",
        "        g.write(\"\\t\".join(line.split('\\t')[:2]) + \"\\n\")\n",
        "\n",
        "f.close()\n",
        "g.close()"
      ],
      "execution_count": null,
      "outputs": []
    },
    {
      "cell_type": "code",
      "metadata": {
        "colab": {
          "base_uri": "https://localhost:8080/"
        },
        "id": "uTt5CYtiJnOi",
        "outputId": "2cce54ed-9ab5-4c18-de9b-ecb334f44631"
      },
      "source": [
        "input_sentences = []\n",
        "output_sentences = []\n",
        "output_sentences_inputs = []\n",
        "\n",
        "count = 0\n",
        "for line in open(r'/content/fixed_ara.txt', encoding=\"utf-8\"):\n",
        "    count += 1\n",
        "\n",
        "    if count > NUM_SENTENCES:\n",
        "        break\n",
        "\n",
        "    if '\\t' not in line:\n",
        "        continue\n",
        "\n",
        "    input_sentence, output = line.rstrip().split('\\t')\n",
        "\n",
        "    output_sentence = output + ' <eos>'\n",
        "    output_sentence_input = '<sos> ' + output\n",
        "\n",
        "    input_sentences.append(input_sentence)\n",
        "    output_sentences.append(output_sentence)\n",
        "    output_sentences_inputs.append(output_sentence_input)\n",
        "\n",
        "print(\"num samples input:\", len(input_sentences))\n",
        "print(\"num samples output:\", len(output_sentences))\n",
        "print(\"num samples output input:\", len(output_sentences_inputs))"
      ],
      "execution_count": null,
      "outputs": [
        {
          "output_type": "stream",
          "text": [
            "num samples input: 11668\n",
            "num samples output: 11668\n",
            "num samples output input: 11668\n"
          ],
          "name": "stdout"
        }
      ]
    },
    {
      "cell_type": "code",
      "metadata": {
        "colab": {
          "base_uri": "https://localhost:8080/"
        },
        "id": "DlNlWDFrJ49B",
        "outputId": "1958ec67-08b5-4a0f-ba9e-5f1801a4d9d0"
      },
      "source": [
        "print(input_sentences[10])\n",
        "print(output_sentences[10])\n",
        "print(output_sentences_inputs[10])"
      ],
      "execution_count": null,
      "outputs": [
        {
          "output_type": "stream",
          "text": [
            "I see.\n",
            "انا اري <eos>\n",
            "<sos> انا اري\n"
          ],
          "name": "stdout"
        }
      ]
    },
    {
      "cell_type": "code",
      "metadata": {
        "colab": {
          "base_uri": "https://localhost:8080/"
        },
        "id": "2izXay8XLzNk",
        "outputId": "6ce3f6b6-d67b-4bf2-fa7f-5875af814cd9"
      },
      "source": [
        "input_tokenizer = Tokenizer(num_words=MAX_NUM_WORDS)\n",
        "input_tokenizer.fit_on_texts(input_sentences)\n",
        "input_integer_seq = input_tokenizer.texts_to_sequences(input_sentences)\n",
        "\n",
        "word2idx_inputs = input_tokenizer.word_index\n",
        "print('Total unique words in the input: %s' % len(word2idx_inputs))\n",
        "\n",
        "max_input_len = max(len(sen) for sen in input_integer_seq)\n",
        "print(\"Length of longest sentence in input: %g\" % max_input_len)"
      ],
      "execution_count": null,
      "outputs": [
        {
          "output_type": "stream",
          "text": [
            "Total unique words in the input: 4270\n",
            "Length of longest sentence in input: 34\n"
          ],
          "name": "stdout"
        }
      ]
    },
    {
      "cell_type": "code",
      "metadata": {
        "colab": {
          "base_uri": "https://localhost:8080/"
        },
        "id": "4UUvMgJJL9WU",
        "outputId": "30cb8014-e424-4475-fbe8-a5e17782ba33"
      },
      "source": [
        "output_tokenizer = Tokenizer(num_words=MAX_NUM_WORDS, filters='')\n",
        "output_tokenizer.fit_on_texts(output_sentences + output_sentences_inputs)\n",
        "output_integer_seq = output_tokenizer.texts_to_sequences(output_sentences)\n",
        "output_input_integer_seq = output_tokenizer.texts_to_sequences(output_sentences_inputs)\n",
        "\n",
        "word2idx_outputs = output_tokenizer.word_index\n",
        "print('Total unique words in the output: %s' % len(word2idx_outputs))\n",
        "\n",
        "num_words_output = len(word2idx_outputs) + 1\n",
        "max_out_len = max(len(sen) for sen in output_integer_seq)\n",
        "print(\"Length of longest sentence in the output: %g\" % max_out_len)"
      ],
      "execution_count": null,
      "outputs": [
        {
          "output_type": "stream",
          "text": [
            "Total unique words in the output: 14792\n",
            "Length of longest sentence in the output: 37\n"
          ],
          "name": "stdout"
        }
      ]
    },
    {
      "cell_type": "code",
      "metadata": {
        "colab": {
          "base_uri": "https://localhost:8080/"
        },
        "id": "Pg9_8u1iMU10",
        "outputId": "4357002e-1e63-4344-a8d9-6697f55a9957"
      },
      "source": [
        "encoder_input_sequences = pad_sequences(input_integer_seq, maxlen=max_input_len)\n",
        "print(\"encoder_input_sequences.shape:\", encoder_input_sequences.shape)\n",
        "print(\"encoder_input_sequences[10]:\", encoder_input_sequences[10])"
      ],
      "execution_count": null,
      "outputs": [
        {
          "output_type": "stream",
          "text": [
            "encoder_input_sequences.shape: (11668, 34)\n",
            "encoder_input_sequences[10]: [ 0  0  0  0  0  0  0  0  0  0  0  0  0  0  0  0  0  0  0  0  0  0  0  0\n",
            "  0  0  0  0  0  0  0  0  1 87]\n"
          ],
          "name": "stdout"
        }
      ]
    },
    {
      "cell_type": "code",
      "metadata": {
        "colab": {
          "base_uri": "https://localhost:8080/"
        },
        "id": "9MZnVLYrMXe9",
        "outputId": "77dbdc57-0700-42b1-c613-0d2f5d189e51"
      },
      "source": [
        "print(word2idx_inputs[\"of\"])\n",
        "print(word2idx_inputs[\"course\"])"
      ],
      "execution_count": null,
      "outputs": [
        {
          "output_type": "stream",
          "text": [
            "15\n",
            "786\n"
          ],
          "name": "stdout"
        }
      ]
    },
    {
      "cell_type": "code",
      "metadata": {
        "colab": {
          "base_uri": "https://localhost:8080/"
        },
        "id": "SNZ8JtTrMjtk",
        "outputId": "7b4e88f9-30ef-4bb5-85a5-47e9974086b2"
      },
      "source": [
        "decoder_input_sequences = pad_sequences(output_input_integer_seq, maxlen=max_out_len, padding='post')\n",
        "print(\"decoder_input_sequences.shape:\", decoder_input_sequences.shape)\n",
        "print(\"decoder_input_sequences[10]:\", decoder_input_sequences[10])"
      ],
      "execution_count": null,
      "outputs": [
        {
          "output_type": "stream",
          "text": [
            "decoder_input_sequences.shape: (11668, 37)\n",
            "decoder_input_sequences[10]: [   2  147 5149    0    0    0    0    0    0    0    0    0    0    0\n",
            "    0    0    0    0    0    0    0    0    0    0    0    0    0    0\n",
            "    0    0    0    0    0    0    0    0    0]\n"
          ],
          "name": "stdout"
        }
      ]
    },
    {
      "cell_type": "code",
      "metadata": {
        "id": "CYxm6Y1NOJek"
      },
      "source": [
        "decoder_output_sequences = pad_sequences(output_integer_seq, maxlen=max_out_len, padding='post')"
      ],
      "execution_count": null,
      "outputs": []
    },
    {
      "cell_type": "code",
      "metadata": {
        "colab": {
          "base_uri": "https://localhost:8080/"
        },
        "id": "H5rJON3AMo48",
        "outputId": "5fd01f29-aee3-4c5e-f475-25c427e3e3f0"
      },
      "source": [
        "print(word2idx_outputs[\"<eos>\"])\n",
        "print(word2idx_outputs[\"طبعاً!\"])"
      ],
      "execution_count": null,
      "outputs": [
        {
          "output_type": "stream",
          "text": [
            "1\n",
            "2934\n"
          ],
          "name": "stdout"
        }
      ]
    },
    {
      "cell_type": "code",
      "metadata": {
        "colab": {
          "base_uri": "https://localhost:8080/"
        },
        "id": "GWkHQ5VZM_6L",
        "outputId": "494528a0-4945-485b-fdb2-a3da9a7a1b62"
      },
      "source": [
        "!wget http://nlp.stanford.edu/data/glove.6B.zip\n",
        "!unzip -q glove.6B.zip"
      ],
      "execution_count": null,
      "outputs": [
        {
          "output_type": "stream",
          "text": [
            "--2021-05-02 18:48:27--  http://nlp.stanford.edu/data/glove.6B.zip\n",
            "Resolving nlp.stanford.edu (nlp.stanford.edu)... 171.64.67.140\n",
            "Connecting to nlp.stanford.edu (nlp.stanford.edu)|171.64.67.140|:80... connected.\n",
            "HTTP request sent, awaiting response... 302 Found\n",
            "Location: https://nlp.stanford.edu/data/glove.6B.zip [following]\n",
            "--2021-05-02 18:48:27--  https://nlp.stanford.edu/data/glove.6B.zip\n",
            "Connecting to nlp.stanford.edu (nlp.stanford.edu)|171.64.67.140|:443... connected.\n",
            "HTTP request sent, awaiting response... 301 Moved Permanently\n",
            "Location: http://downloads.cs.stanford.edu/nlp/data/glove.6B.zip [following]\n",
            "--2021-05-02 18:48:27--  http://downloads.cs.stanford.edu/nlp/data/glove.6B.zip\n",
            "Resolving downloads.cs.stanford.edu (downloads.cs.stanford.edu)... 171.64.64.22\n",
            "Connecting to downloads.cs.stanford.edu (downloads.cs.stanford.edu)|171.64.64.22|:80... connected.\n",
            "HTTP request sent, awaiting response... 200 OK\n",
            "Length: 862182613 (822M) [application/zip]\n",
            "Saving to: ‘glove.6B.zip’\n",
            "\n",
            "glove.6B.zip        100%[===================>] 822.24M  5.02MB/s    in 2m 40s  \n",
            "\n",
            "2021-05-02 18:51:07 (5.14 MB/s) - ‘glove.6B.zip’ saved [862182613/862182613]\n",
            "\n"
          ],
          "name": "stdout"
        }
      ]
    },
    {
      "cell_type": "code",
      "metadata": {
        "colab": {
          "base_uri": "https://localhost:8080/"
        },
        "id": "w5yYBAYdNDUE",
        "outputId": "2fb679e4-ef08-4944-b2fb-3d2cfbec6e6b"
      },
      "source": [
        "import numpy as np\n",
        "embeddings_index = {}\n",
        "with open('/content/glove.6B.300d.txt') as f:\n",
        "    for line in f:\n",
        "        word, coefs = line.split(maxsplit=1)\n",
        "        coefs = np.fromstring(coefs, \"f\", sep=\" \")\n",
        "        embeddings_index[word] = coefs\n",
        "\n",
        "print(\"Found %s word vectors.\" % len(embeddings_index))"
      ],
      "execution_count": null,
      "outputs": [
        {
          "output_type": "stream",
          "text": [
            "Found 400000 word vectors.\n"
          ],
          "name": "stdout"
        }
      ]
    },
    {
      "cell_type": "code",
      "metadata": {
        "id": "VVdClt8ZMqzb"
      },
      "source": [
        "from numpy import array\n",
        "from numpy import asarray\n",
        "from numpy import zeros\n",
        "\n",
        "embeddings_dictionary = dict()\n",
        "\n",
        "glove_file = open(r'/content/glove.6B.300d.txt', encoding=\"utf8\")\n",
        "\n",
        "for line in glove_file:\n",
        "    records = line.split()\n",
        "    word = records[0]\n",
        "    vector_dimensions = asarray(records[1:], dtype='float32')\n",
        "    embeddings_dictionary[word] = vector_dimensions\n",
        "glove_file.close()"
      ],
      "execution_count": null,
      "outputs": []
    },
    {
      "cell_type": "code",
      "metadata": {
        "id": "sCwZI7QJM1fK"
      },
      "source": [
        "num_words = min(MAX_NUM_WORDS, len(word2idx_inputs) + 1)\n",
        "embedding_matrix = zeros((num_words, EMBEDDING_SIZE))\n",
        "for word, index in word2idx_inputs.items():\n",
        "    embedding_vector = embeddings_dictionary.get(word)\n",
        "    if embedding_vector is not None:\n",
        "        embedding_matrix[index] = embedding_vector"
      ],
      "execution_count": null,
      "outputs": []
    },
    {
      "cell_type": "code",
      "metadata": {
        "colab": {
          "base_uri": "https://localhost:8080/"
        },
        "id": "FxBEK43wN7wJ",
        "outputId": "582251c6-2cc7-4d27-d6c3-0412279a1544"
      },
      "source": [
        "print(embeddings_dictionary[\"course\"])\n"
      ],
      "execution_count": null,
      "outputs": [
        {
          "output_type": "stream",
          "text": [
            "[-0.52371   -0.44083    0.34225    0.41064   -0.21218    0.03431\n",
            " -0.021856   0.097563   0.35585   -1.5093     0.30294    0.22135\n",
            "  0.16906    0.043339   0.062974  -0.11252    0.2818     0.15375\n",
            "  0.60427    0.61581   -0.075057  -0.24214    0.0099421  0.45133\n",
            " -0.73914    0.11561   -0.11896   -0.17089   -0.25271   -0.4846\n",
            "  0.24009   -0.16476    0.17586   -0.093761  -0.82693    0.63186\n",
            " -0.26915   -0.53539   -0.22293    0.044449  -0.19434   -0.23717\n",
            " -0.095677  -0.36154    0.25425    0.25551    0.3146     0.64131\n",
            "  0.1786    -0.13662   -0.47772   -0.53688    0.30732    0.46526\n",
            "  0.13306    0.6245    -0.021982  -0.016591   0.55766    0.090356\n",
            "  0.48976   -0.086931   0.26188    0.28274   -0.20054   -0.11525\n",
            "  0.26347    0.10177   -0.49173   -0.4455    -0.0050688  0.18205\n",
            "  0.12029   -0.034127   0.06195   -0.09392   -0.060547   0.094898\n",
            " -0.33962   -0.15461   -0.24351   -0.036829   0.038934   0.035064\n",
            "  0.096655   0.10474   -0.23622    0.053082   0.092839  -0.10973\n",
            "  0.088191   0.17939   -0.075769  -0.4903     0.80934    0.13838\n",
            " -0.23833    0.1789    -0.50996   -0.42045   -0.53147    0.6103\n",
            "  0.058115   0.2527    -0.20269   -0.13472    0.12535   -0.039087\n",
            " -0.64463   -0.35705   -0.17708   -0.32892    0.26737   -0.20016\n",
            " -0.11306    0.043894  -0.14522   -0.11854   -0.10582    0.13004\n",
            " -0.070838   0.17724   -0.079184   0.47827    0.25824    0.22779\n",
            "  0.10291   -0.132     -0.12105    0.16175   -0.024816   0.47821\n",
            "  0.10785    0.19574   -0.28908    0.27632    0.079741   0.40524\n",
            " -0.3787     0.096651   0.049109  -0.32858   -0.31557    0.20998\n",
            " -0.16008   -0.25074    0.54049    0.12438    0.046468   0.60996\n",
            "  0.011586   0.35822    0.17195   -0.013632   0.39371    0.048017\n",
            " -0.24107   -0.39454    0.054361   0.30361    0.23924   -0.52314\n",
            " -0.66648   -0.31794   -0.14654   -0.15705    0.091978  -0.086292\n",
            " -0.31977    0.013134   0.31093   -0.61189   -0.43414   -0.1041\n",
            " -0.037159  -0.0086852  0.15218   -0.075646  -0.12733   -0.012819\n",
            " -0.034121   0.25912    0.26125   -0.31636    0.025082   0.093374\n",
            " -0.2005     0.29636    0.027873  -0.00283   -0.60241    0.27843\n",
            "  0.040669  -0.21409    0.36471   -0.099174  -0.079784  -0.2157\n",
            "  0.45327   -0.45357    1.4349     0.050432  -0.41663   -0.065983\n",
            "  0.097552   0.39754   -0.12232    0.44799   -0.059742   0.18631\n",
            "  0.41686   -0.020016   0.3171    -0.65487   -0.45976   -0.015605\n",
            "  0.1903    -0.17857    0.43243   -0.4711     0.32634    0.12562\n",
            " -0.53316    0.23948    0.22324   -0.30397   -0.043202  -0.080595\n",
            "  0.047549  -0.04965    0.389     -0.27448    0.22574   -0.30961\n",
            "  0.27841    0.43951   -0.025597   0.11796    0.21343    0.37043\n",
            "  0.015178   0.17391    0.57223   -0.0087703 -1.0196     0.012396\n",
            " -0.62378    0.52333    0.26501   -0.12431    0.15721    0.1577\n",
            " -0.27159   -0.066958   0.25485    0.06154   -0.021809  -0.096835\n",
            " -0.10313    0.0082999 -0.21982   -0.44577   -0.52227   -0.40337\n",
            " -0.4021     0.45843    0.0097469 -0.57512    0.29882   -0.019157\n",
            "  0.036986  -0.044374   0.16988    0.6445     0.075873  -0.031484\n",
            " -1.5852     0.31147    0.63917   -0.098141   0.34851   -0.38511\n",
            "  0.51631   -0.46827    0.10738   -0.28918    0.065254  -0.38216\n",
            " -0.18471   -0.27913   -0.28273    0.011539  -0.24206    0.04835\n",
            "  0.097283  -0.22831    0.064867  -0.12845   -0.12512   -0.01859  ]\n"
          ],
          "name": "stdout"
        }
      ]
    },
    {
      "cell_type": "code",
      "metadata": {
        "colab": {
          "base_uri": "https://localhost:8080/"
        },
        "id": "NwjXjDsQN-Mg",
        "outputId": "a5f3fb61-3326-404c-c70f-0b9e2f5d0128"
      },
      "source": [
        "print(embedding_matrix[539])"
      ],
      "execution_count": null,
      "outputs": [
        {
          "output_type": "stream",
          "text": [
            "[ 0.019932   -0.022283   -0.51384997 -0.2173      0.25782999 -0.15474001\n",
            " -0.025695   -0.17854001  0.060605   -0.13778    -0.38782001  0.01563\n",
            "  0.090285   -0.028052    0.37371999  0.057938    0.50853997 -0.33333001\n",
            "  0.016994    0.43029001  0.37244999  0.35350999 -0.074267   -0.43022999\n",
            " -0.41376001 -0.35370001 -0.069673    0.29756001  0.14442    -0.35844001\n",
            "  0.093499    0.024201   -0.30667001 -0.034969   -0.74571002 -0.30057999\n",
            " -0.09542     0.032652   -0.091006   -0.17101     0.1485     -0.73762\n",
            "  0.33634999  0.16632999  0.17437001  0.114       0.38117    -0.33017001\n",
            " -0.083412    0.40558001  0.43935999  0.018723   -0.096614    0.044401\n",
            " -0.48622999  0.31257999  0.73701    -0.18081     0.51621002  0.58227003\n",
            "  0.17181    -0.08246    -0.3743      0.55331999  0.15206     0.10194\n",
            "  0.17937     0.31771001  0.14802    -0.24894001  0.17577    -0.44622001\n",
            "  0.079147    0.56257999  0.22247    -0.58844    -0.18028     0.064491\n",
            " -0.14151999 -0.32385001 -0.1735      0.51854998  0.6627     -0.081291\n",
            "  0.016225    0.18765999 -0.16886     0.22502001 -0.41779     0.10791\n",
            " -0.058907    0.013475    0.15511    -0.18729     0.096784    0.12608001\n",
            " -0.22724    -0.23277999  0.12815    -0.24556001  0.099887    0.092983\n",
            " -0.15109     0.12241     0.22002    -0.6983      0.25759    -0.01067\n",
            " -0.40174001  0.39996001  0.25701001  0.45398     0.086387   -0.242\n",
            "  0.097995    0.36036     0.23269001 -0.28781     0.39046001 -0.10948\n",
            " -0.19575    -0.53318     0.13012999  0.12423     0.14494     0.092318\n",
            " -0.15644     0.1759     -0.098127    0.3608      0.44326001 -0.43244001\n",
            "  0.42333001  0.025713   -0.22852001  0.50779003  0.43471    -0.20336001\n",
            " -0.30730999  0.18719     0.24178    -0.33682999  0.067169    0.033301\n",
            " -0.35062999  0.1693      0.2252     -0.07058     0.49685001  0.0054675\n",
            " -0.94005001  0.12429     0.22431999 -0.19303    -0.16677    -0.08305\n",
            "  0.035679   -0.1164      0.26025999  0.024535    0.30410999 -0.2331\n",
            " -0.04184    -0.17135     0.12062    -0.045503    0.13349999  0.41468\n",
            "  0.005004   -0.21435    -0.57598001 -0.067972    0.031253   -0.025399\n",
            "  0.32469001  0.19738001  0.53166997 -0.28024     0.18169001 -0.26128\n",
            "  0.028413    0.25984001 -0.11109    -0.040039   -0.20483001  0.18004\n",
            "  0.13266     0.44541001  0.33416     0.027336   -0.11426    -0.24986\n",
            "  0.25426    -0.0013339   0.087518   -0.15063    -0.66548997  0.39631\n",
            " -0.17694999 -0.28143001  0.56423998 -0.12980001  0.43426999  0.25325999\n",
            "  0.22310001 -0.11295     0.64067    -0.060696    0.19374999  0.091829\n",
            " -0.71847999 -0.082993   -0.023937    0.35679001 -0.44161001 -0.15775999\n",
            "  0.040539   -0.1185      0.25353     0.50151998  0.20896     0.13719\n",
            "  0.14868     0.16216999  0.48805001 -0.33700001 -0.11015    -0.071691\n",
            "  0.19944     0.26451001  0.20552     0.12489    -0.52645999 -0.45906001\n",
            " -0.77612001 -0.068174   -0.11365    -0.24547     0.20084    -0.18346\n",
            "  0.13163    -0.015442   -0.076012    0.27228001  0.065787   -0.23965\n",
            " -0.13394    -0.092339    0.12243    -0.48324001  0.25317001 -0.051448\n",
            "  0.069616    0.38374001  0.1601      0.058851    0.23149     0.061047\n",
            "  0.25916001 -0.62730002 -0.065855   -0.24908    -0.072294   -0.12268\n",
            " -0.15324999 -0.0050545  -0.008898   -0.21799999  0.2929      0.46709999\n",
            "  0.11805     0.003359    0.15525     0.085832   -0.12664001  0.01217\n",
            " -0.53143001  0.07781     0.31665999 -0.0167     -0.22322001  0.26288\n",
            "  0.23117    -0.34836     0.1858      0.48324999  0.48266    -0.22674\n",
            " -0.29095     0.037183    0.32457    -0.048254    0.21726    -0.41777\n",
            " -0.095399   -0.91486001 -0.058699    0.0045381  -0.092944    0.26154   ]\n"
          ],
          "name": "stdout"
        }
      ]
    },
    {
      "cell_type": "code",
      "metadata": {
        "id": "Jnnys4xeODAk"
      },
      "source": [
        "embedding_layer = Embedding(num_words, EMBEDDING_SIZE, weights=[embedding_matrix], input_length=max_input_len)"
      ],
      "execution_count": null,
      "outputs": []
    },
    {
      "cell_type": "code",
      "metadata": {
        "id": "ybJ_3fhvOFQ1"
      },
      "source": [
        "decoder_targets_one_hot = np.zeros((\n",
        "        len(input_sentences),\n",
        "        max_out_len,\n",
        "        num_words_output\n",
        "    ), dtype = 'uint8'\n",
        ")"
      ],
      "execution_count": null,
      "outputs": []
    },
    {
      "cell_type": "code",
      "metadata": {
        "colab": {
          "base_uri": "https://localhost:8080/"
        },
        "id": "5cNiPtsgOHKC",
        "outputId": "db4c69bc-192a-4519-940f-2b64c11c20dc"
      },
      "source": [
        "decoder_targets_one_hot.shape"
      ],
      "execution_count": null,
      "outputs": [
        {
          "output_type": "execute_result",
          "data": {
            "text/plain": [
              "(11668, 37, 14793)"
            ]
          },
          "metadata": {
            "tags": []
          },
          "execution_count": 21
        }
      ]
    },
    {
      "cell_type": "code",
      "metadata": {
        "id": "erO1zCQbwAIE"
      },
      "source": [
        "for i, d in enumerate(decoder_output_sequences):\n",
        "    for t, word in enumerate(d):\n",
        "        decoder_targets_one_hot[i, t, word] = 1"
      ],
      "execution_count": null,
      "outputs": []
    },
    {
      "cell_type": "code",
      "metadata": {
        "id": "-FiWt03EwBh8"
      },
      "source": [
        "encoder_inputs_placeholder = Input(shape=(max_input_len,))\n",
        "x = embedding_layer(encoder_inputs_placeholder)\n",
        "encoder = LSTM(LSTM_NODES, return_state=True)\n",
        "\n",
        "encoder_outputs, h, c = encoder(x)\n",
        "encoder_states = [h, c]"
      ],
      "execution_count": null,
      "outputs": []
    },
    {
      "cell_type": "code",
      "metadata": {
        "id": "ywIhrZYVwBsO"
      },
      "source": [
        "decoder_inputs_placeholder = Input(shape=(max_out_len,))\n",
        "\n",
        "decoder_embedding = Embedding(num_words_output, LSTM_NODES)\n",
        "decoder_inputs_x = decoder_embedding(decoder_inputs_placeholder)\n",
        "\n",
        "decoder_lstm = LSTM(LSTM_NODES, return_sequences=True, return_state=True)\n",
        "decoder_outputs, _, _ = decoder_lstm(decoder_inputs_x, initial_state=encoder_states)"
      ],
      "execution_count": null,
      "outputs": []
    },
    {
      "cell_type": "code",
      "metadata": {
        "id": "krLVCD-0wB1B"
      },
      "source": [
        "decoder_dense = Dense(num_words_output, activation='softmax')\n",
        "decoder_outputs = decoder_dense(decoder_outputs)"
      ],
      "execution_count": null,
      "outputs": []
    },
    {
      "cell_type": "code",
      "metadata": {
        "id": "VVIMR_eLwB-Q"
      },
      "source": [
        "model = Model([encoder_inputs_placeholder,\n",
        "  decoder_inputs_placeholder], decoder_outputs)\n",
        "model.compile(\n",
        "    optimizer='rmsprop',\n",
        "    loss='categorical_crossentropy',\n",
        "    metrics=['accuracy']\n",
        ")"
      ],
      "execution_count": null,
      "outputs": []
    },
    {
      "cell_type": "code",
      "metadata": {
        "colab": {
          "base_uri": "https://localhost:8080/"
        },
        "id": "Fgmj04F2wCD3",
        "outputId": "ce210edc-aa79-4c6e-8000-5060502ff02e"
      },
      "source": [
        "r = model.fit(\n",
        "    [encoder_input_sequences, decoder_input_sequences],\n",
        "    decoder_targets_one_hot,\n",
        "    batch_size=BATCH_SIZE,\n",
        "    epochs=EPOCHS,\n",
        "    validation_split=0.2,\n",
        ")"
      ],
      "execution_count": null,
      "outputs": [
        {
          "output_type": "stream",
          "text": [
            "Epoch 1/10\n",
            "146/146 [==============================] - 51s 121ms/step - loss: 2.2141 - accuracy: 0.8462 - val_loss: 1.6552 - val_accuracy: 0.8168\n",
            "Epoch 2/10\n",
            "146/146 [==============================] - 16s 108ms/step - loss: 0.8011 - accuracy: 0.9019 - val_loss: 1.6016 - val_accuracy: 0.8211\n",
            "Epoch 3/10\n",
            "146/146 [==============================] - 16s 108ms/step - loss: 0.7440 - accuracy: 0.9057 - val_loss: 1.5755 - val_accuracy: 0.8236\n",
            "Epoch 4/10\n",
            "146/146 [==============================] - 16s 108ms/step - loss: 0.6883 - accuracy: 0.9093 - val_loss: 1.5429 - val_accuracy: 0.8263\n",
            "Epoch 5/10\n",
            "146/146 [==============================] - 16s 107ms/step - loss: 0.6441 - accuracy: 0.9126 - val_loss: 1.5206 - val_accuracy: 0.8284\n",
            "Epoch 6/10\n",
            "146/146 [==============================] - 16s 107ms/step - loss: 0.6033 - accuracy: 0.9165 - val_loss: 1.5207 - val_accuracy: 0.8294\n",
            "Epoch 7/10\n",
            "146/146 [==============================] - 16s 107ms/step - loss: 0.5626 - accuracy: 0.9203 - val_loss: 1.5000 - val_accuracy: 0.8310\n",
            "Epoch 8/10\n",
            "146/146 [==============================] - 16s 108ms/step - loss: 0.5296 - accuracy: 0.9231 - val_loss: 1.4919 - val_accuracy: 0.8323\n",
            "Epoch 9/10\n",
            "146/146 [==============================] - 16s 108ms/step - loss: 0.5015 - accuracy: 0.9262 - val_loss: 1.4880 - val_accuracy: 0.8319\n",
            "Epoch 10/10\n",
            "146/146 [==============================] - 16s 108ms/step - loss: 0.4733 - accuracy: 0.9292 - val_loss: 1.4967 - val_accuracy: 0.8322\n"
          ],
          "name": "stdout"
        }
      ]
    },
    {
      "cell_type": "code",
      "metadata": {
        "id": "hJkxAl7vww6l"
      },
      "source": [
        "model.save_weights('SEQ2SEQ_weigths.h5')"
      ],
      "execution_count": null,
      "outputs": []
    },
    {
      "cell_type": "code",
      "metadata": {
        "id": "g1UP02Yq01OZ"
      },
      "source": [
        "def plot_training_history(history):\n",
        "    history_dict = history.history\n",
        "    loss_values = history_dict['loss']\n",
        "    val_loss_values = history_dict['val_loss']\n",
        "    acc_values = history_dict['accuracy']\n",
        "    val_acc_values = history_dict['val_accuracy']\n",
        "    epochs = range(1, len(val_loss_values) + 1)\n",
        "\n",
        "    plt.subplot(211)\n",
        "    plt.plot(epochs, history.history['loss'], 'r', label='Training loss')\n",
        "    plt.plot(epochs, val_loss_values, 'b', label='Test loss')\n",
        "    plt.title('Training and val loss')\n",
        "    plt.xlabel('Epochs')\n",
        "    plt.ylabel('Loss')\n",
        "    plt.legend()\n",
        "    plt.grid('off')\n",
        "    plt.show()\n",
        "\n",
        "    plt.subplot(212)\n",
        "    plt.plot(epochs, history.history['accuracy'], 'r', label='Training accuracy')\n",
        "    plt.plot(epochs, val_acc_values, 'b', label='Val accuracy')\n",
        "    plt.title('Training and val accuracy')\n",
        "    plt.xlabel('Epochs')\n",
        "    plt.ylabel('Accuracy')\n",
        "    plt.gca().set_yticklabels(['{:.0f}%'.format(x*100) for x in plt.gca().get_yticks()]) \n",
        "    plt.legend()\n",
        "    plt.grid('off')\n",
        "    plt.show()"
      ],
      "execution_count": null,
      "outputs": []
    },
    {
      "cell_type": "code",
      "metadata": {
        "colab": {
          "background_save": true,
          "base_uri": "https://localhost:8080/",
          "height": 337
        },
        "id": "PsjLirl36v0r",
        "outputId": "76b6cfd5-5328-4829-fab5-2f7ab81cbc3c"
      },
      "source": [
        "plot_training_history(r)\n"
      ],
      "execution_count": null,
      "outputs": [
        {
          "output_type": "display_data",
          "data": {
            "image/png": "[encoded data removed]",
            "text/plain": [
              "<Figure size 432x288 with 1 Axes>"
            ]
          },
          "metadata": {
            "tags": []
          }
        },
        {
          "output_type": "display_data",
          "data": {
            "image/png": "[encoded data removed]",
            "text/plain": [
              "<Figure size 432x288 with 1 Axes>"
            ]
          },
          "metadata": {
            "tags": []
          }
        }
      ]
    },
    {
      "cell_type": "code",
      "metadata": {
        "id": "2TjdS3MPxt0a"
      },
      "source": [
        "#We keep the encoder model as it was\n",
        "encoder_model = Model(encoder_inputs_placeholder, encoder_states)"
      ],
      "execution_count": null,
      "outputs": []
    },
    {
      "cell_type": "code",
      "metadata": {
        "id": "uWZhOxG8xuA9"
      },
      "source": [
        "#Alter decoder to accept hidden state and cell state as inputs\n",
        "decoder_state_input_h = Input(shape=(LSTM_NODES,))\n",
        "decoder_state_input_c = Input(shape=(LSTM_NODES,))\n",
        "decoder_states_inputs = [decoder_state_input_h, decoder_state_input_c]"
      ],
      "execution_count": null,
      "outputs": []
    },
    {
      "cell_type": "code",
      "metadata": {
        "id": "PMKKCaC2xuE4"
      },
      "source": [
        "#One word as input at each timestep\n",
        "#Alter decoder embedding for it\n",
        "decoder_inputs_single = Input(shape=(1,))\n",
        "decoder_inputs_single_x = decoder_embedding(decoder_inputs_single)"
      ],
      "execution_count": null,
      "outputs": []
    },
    {
      "cell_type": "code",
      "metadata": {
        "id": "rOHotbMNxuIz"
      },
      "source": [
        "#create variables to hold decoder LSTM outputs\n",
        "decoder_outputs, h, c = decoder_lstm(decoder_inputs_single_x, initial_state=decoder_states_inputs)"
      ],
      "execution_count": null,
      "outputs": []
    },
    {
      "cell_type": "code",
      "metadata": {
        "id": "Hvs18kZoxuMi"
      },
      "source": [
        "#Feed decoder output to dense layer\n",
        "decoder_states = [h, c]\n",
        "decoder_outputs = decoder_dense(decoder_outputs)"
      ],
      "execution_count": null,
      "outputs": []
    },
    {
      "cell_type": "code",
      "metadata": {
        "id": "pAMsuwAvx_Qk"
      },
      "source": [
        "#Alter decoder model to accept single word + states + outputs\n",
        "decoder_model = Model(\n",
        "    [decoder_inputs_single] + decoder_states_inputs,\n",
        "    [decoder_outputs] + decoder_states\n",
        ")"
      ],
      "execution_count": null,
      "outputs": []
    },
    {
      "cell_type": "code",
      "metadata": {
        "id": "oSxmUWwkx_XK"
      },
      "source": [
        "#create reverse dictionary for both input and target seq\n",
        "idx2word_input = {v:k for k, v in word2idx_inputs.items()}\n",
        "idx2word_target = {v:k for k, v in word2idx_outputs.items()}"
      ],
      "execution_count": null,
      "outputs": []
    },
    {
      "cell_type": "code",
      "metadata": {
        "id": "0JV533pfx_dL"
      },
      "source": [
        "#takes english seq in integer form and translates it to french using reverse dictionary\n",
        "def translate_sentence(input_seq):\n",
        "    states_value = encoder_model.predict(input_seq)\n",
        "    target_seq = np.zeros((1, 1)) #placeholder for <sos> token\n",
        "    target_seq[0, 0] = word2idx_outputs['<sos>']\n",
        "    eos = word2idx_outputs['<eos>']\n",
        "    output_sentence = []\n",
        "\n",
        "    for _ in range(max_out_len):\n",
        "        output_tokens, h, c = decoder_model.predict([target_seq] + states_value)\n",
        "        idx = np.argmax(output_tokens[0, 0, :])\n",
        "\n",
        "        if eos == idx: #breaks if <eos> integer token encountered\n",
        "            break\n",
        "\n",
        "        word = ''\n",
        "\n",
        "        if idx > 0:\n",
        "            word = idx2word_target[idx]\n",
        "            output_sentence.append(word)\n",
        "\n",
        "        target_seq[0, 0] = idx\n",
        "        states_value = [h, c]\n",
        "\n",
        "    return ' '.join(output_sentence) #concatenate words into sentence"
      ],
      "execution_count": null,
      "outputs": []
    },
    {
      "cell_type": "code",
      "metadata": {
        "colab": {
          "base_uri": "https://localhost:8080/"
        },
        "id": "tFf5phXU81hL",
        "outputId": "c2c5dee6-4d60-4034-93ce-9f513157a659"
      },
      "source": [
        "test = []\n",
        "count= 0\n",
        "for i in range(len(encoder_input_sequences)):\n",
        "  input_seq = encoder_input_sequences[i:i+1]\n",
        "  translation = translate_sentence(input_seq)\n",
        "  test.append(translation.split())\n",
        "  #print('-')\n",
        "  #print('Input:', input_sentences[i])\n",
        "  #print('Actual:', output_sentences[i][:-5])\n",
        "  #print('Response:', translation)\n",
        "  reference = np.array(output_sentences[i][:-5].split())\n",
        "  trans = np.array(translation.split())\n",
        "  ref = reference.reshape(1, -1)\n",
        "  #print(ref)\n",
        "  #print(trans)\n",
        "  #print(sentence_bleu(ref, trans))\n",
        "  count+=sentence_bleu(ref, trans)\n",
        "print('\\n')\n",
        "print('Total BLEU Score:', count/len(encoder_input_sequences))"
      ],
      "execution_count": null,
      "outputs": [
        {
          "output_type": "stream",
          "text": [
            "/usr/local/lib/python3.7/dist-packages/nltk/translate/bleu_score.py:490: UserWarning: \n",
            "Corpus/Sentence contains 0 counts of 2-gram overlaps.\n",
            "BLEU scores might be undesirable; use SmoothingFunction().\n",
            "  warnings.warn(_msg)\n",
            "/usr/local/lib/python3.7/dist-packages/nltk/translate/bleu_score.py:490: UserWarning: \n",
            "Corpus/Sentence contains 0 counts of 3-gram overlaps.\n",
            "BLEU scores might be undesirable; use SmoothingFunction().\n",
            "  warnings.warn(_msg)\n",
            "/usr/local/lib/python3.7/dist-packages/nltk/translate/bleu_score.py:490: UserWarning: \n",
            "Corpus/Sentence contains 0 counts of 4-gram overlaps.\n",
            "BLEU scores might be undesirable; use SmoothingFunction().\n",
            "  warnings.warn(_msg)\n"
          ],
          "name": "stderr"
        },
        {
          "output_type": "stream",
          "text": [
            "\n",
            "\n",
            "Total BLEU Score: 0.5749791846568767\n"
          ],
          "name": "stdout"
        }
      ]
    },
    {
      "cell_type": "code",
      "metadata": {
        "colab": {
          "base_uri": "https://localhost:8080/"
        },
        "id": "azbdfaajCCoF",
        "outputId": "0abc8b36-bc36-4a76-fc2b-8f8f76f346a1"
      },
      "source": [
        "i = np.random.choice(len(input_sentences))\n",
        "input_seq = encoder_input_sequences[i:i+1]\n",
        "translation = translate_sentence(input_seq)\n",
        "print('-')\n",
        "print('Input:', input_sentences[i])\n",
        "print('Actual:', output_sentences[i][:-5])\n",
        "print('Response:', translation)\n"
      ],
      "execution_count": null,
      "outputs": [
        {
          "output_type": "stream",
          "text": [
            "-\n",
            "Input: I think we can help each other.\n",
            "Actual: اعتقد بأنه يمكننا مساعدة بعضنا البعض. \n",
            "Response: اعتقد بأنه يمكننا مساعدة البعض.\n"
          ],
          "name": "stdout"
        }
      ]
    },
    {
      "cell_type": "code",
      "metadata": {
        "colab": {
          "base_uri": "https://localhost:8080/"
        },
        "id": "YWA4IxfnIXgp",
        "outputId": "4455fdc5-26da-4f38-f240-2426268bc8ae"
      },
      "source": [
        "from nltk.translate.bleu_score import sentence_bleu\n",
        "from nltk.translate.bleu_score import corpus_bleu\n",
        "reference = np.array(output_sentences[i][:-5].split())\n",
        "trans = np.array(translation.split())\n",
        "ref = reference.reshape(1, -1)\n",
        "print(ref)\n",
        "print(trans)\n",
        "sentence_bleu(ref, trans)"
      ],
      "execution_count": null,
      "outputs": [
        {
          "output_type": "stream",
          "text": [
            "[['اعتقد' 'بأنه' 'يمكننا' 'مساعدة' 'بعضنا' 'البعض.']]\n",
            "['اعتقد' 'بأنه' 'يمكننا' 'مساعدة' 'البعض.']\n"
          ],
          "name": "stdout"
        },
        {
          "output_type": "execute_result",
          "data": {
            "text/plain": [
              "0.5789300674674098"
            ]
          },
          "metadata": {
            "tags": []
          },
          "execution_count": 68
        }
      ]
    },
    {
      "cell_type": "code",
      "metadata": {
        "colab": {
          "base_uri": "https://localhost:8080/"
        },
        "id": "YwpRzUlXx_jT",
        "outputId": "a3e778f9-0f22-4945-9160-a05e5f5222b6"
      },
      "source": [
        "i = np.random.choice(len(input_sentences))\n",
        "input_seq = encoder_input_sequences[i:i+1]\n",
        "translation = translate_sentence(input_seq)\n",
        "print('-')\n",
        "print('Input:', input_sentences[i])\n",
        "print('Response:', translation)"
      ],
      "execution_count": null,
      "outputs": [
        {
          "output_type": "stream",
          "text": [
            "-\n",
            "Input: They fell one after another.\n",
            "Response: واحداً واحداً تلو الآخر.\n"
          ],
          "name": "stdout"
        }
      ]
    },
    {
      "cell_type": "code",
      "metadata": {
        "colab": {
          "base_uri": "https://localhost:8080/"
        },
        "id": "gjkuJ_apNWp9",
        "outputId": "3af59422-a852-4d4f-e6c9-d18a16d88fa6"
      },
      "source": [
        "from nltk.translate.bleu_score import sentence_bleu\n",
        "from nltk.translate.bleu_score import corpus_bleu\n",
        "reference = np.array(output_sentences[i][:-5].split())\n",
        "trans = np.array(translation.split())\n",
        "ref = reference.reshape(1, -1)\n",
        "print(ref)\n",
        "print(trans)\n",
        "sentence_bleu(ref, trans)"
      ],
      "execution_count": null,
      "outputs": [
        {
          "output_type": "stream",
          "text": [
            "[['وقعوا' 'واحداً' 'تلو' 'الآخر.']]\n",
            "['واحداً' 'واحداً' 'تلو' 'الآخر.']\n"
          ],
          "name": "stdout"
        },
        {
          "output_type": "stream",
          "text": [
            "/usr/local/lib/python3.7/dist-packages/nltk/translate/bleu_score.py:490: UserWarning: \n",
            "Corpus/Sentence contains 0 counts of 4-gram overlaps.\n",
            "BLEU scores might be undesirable; use SmoothingFunction().\n",
            "  warnings.warn(_msg)\n"
          ],
          "name": "stderr"
        },
        {
          "output_type": "execute_result",
          "data": {
            "text/plain": [
              "0.7071067811865476"
            ]
          },
          "metadata": {
            "tags": []
          },
          "execution_count": 137
        }
      ]
    },
    {
      "cell_type": "code",
      "metadata": {
        "colab": {
          "base_uri": "https://localhost:8080/"
        },
        "id": "BUF_afxH0sWP",
        "outputId": "c0962691-0b83-4b32-fde4-46424df80ecc"
      },
      "source": [
        "i = np.random.choice(len(input_sentences))\n",
        "input_seq = encoder_input_sequences[i:i+1]\n",
        "translation = translate_sentence(input_seq)\n",
        "print('-')\n",
        "print('Input:', input_sentences[i])\n",
        "print('Response:', translation)"
      ],
      "execution_count": null,
      "outputs": [
        {
          "output_type": "stream",
          "text": [
            "-\n",
            "Input: It was a very big room.\n",
            "Response: كان غرفة كبيرة.\n"
          ],
          "name": "stdout"
        }
      ]
    },
    {
      "cell_type": "code",
      "metadata": {
        "colab": {
          "base_uri": "https://localhost:8080/"
        },
        "id": "knjW7gVuNaei",
        "outputId": "06d8b613-57cd-4089-f104-0c8bf8365def"
      },
      "source": [
        "from nltk.translate.bleu_score import sentence_bleu\n",
        "from nltk.translate.bleu_score import corpus_bleu\n",
        "reference = np.array(output_sentences[i][:-5].split())\n",
        "trans = np.array(translation.split())\n",
        "ref = reference.reshape(1, -1)\n",
        "print(ref)\n",
        "print(trans)\n",
        "sentence_bleu(ref, trans)"
      ],
      "execution_count": null,
      "outputs": [
        {
          "output_type": "stream",
          "text": [
            "[['كانت' 'غرفة' 'كبيرة.']]\n",
            "['كان' 'غرفة' 'كبيرة.']\n"
          ],
          "name": "stdout"
        },
        {
          "output_type": "stream",
          "text": [
            "/usr/local/lib/python3.7/dist-packages/nltk/translate/bleu_score.py:490: UserWarning: \n",
            "Corpus/Sentence contains 0 counts of 3-gram overlaps.\n",
            "BLEU scores might be undesirable; use SmoothingFunction().\n",
            "  warnings.warn(_msg)\n"
          ],
          "name": "stderr"
        },
        {
          "output_type": "execute_result",
          "data": {
            "text/plain": [
              "0.7598356856515925"
            ]
          },
          "metadata": {
            "tags": []
          },
          "execution_count": 143
        }
      ]
    },
    {
      "cell_type": "code",
      "metadata": {
        "colab": {
          "base_uri": "https://localhost:8080/"
        },
        "id": "b2xlCifq0sxr",
        "outputId": "22b9681f-45cc-4e7b-bc2d-9d0cc10665fd"
      },
      "source": [
        "i = np.random.choice(len(input_sentences))\n",
        "input_seq = encoder_input_sequences[i:i+1]\n",
        "translation = translate_sentence(input_seq)\n",
        "print('-')\n",
        "print('Input:', input_sentences[i])\n",
        "print('Response:', translation)"
      ],
      "execution_count": null,
      "outputs": [
        {
          "output_type": "stream",
          "text": [
            "-\n",
            "Input: It will rain tonight.\n",
            "Response: ستمطر الليلة.\n"
          ],
          "name": "stdout"
        }
      ]
    },
    {
      "cell_type": "code",
      "metadata": {
        "colab": {
          "base_uri": "https://localhost:8080/"
        },
        "id": "EpBptqd1Nh2Z",
        "outputId": "384d317c-b11b-4b95-f159-d54eccf32df1"
      },
      "source": [
        "from nltk.translate.bleu_score import sentence_bleu\n",
        "from nltk.translate.bleu_score import corpus_bleu\n",
        "reference = np.array(output_sentences[i][:-5].split())\n",
        "trans = np.array(translation.split())\n",
        "ref = reference.reshape(1, -1)\n",
        "print(ref)\n",
        "print(trans)\n",
        "sentence_bleu(ref, trans)"
      ],
      "execution_count": null,
      "outputs": [
        {
          "output_type": "stream",
          "text": [
            "[['ستمطر' 'الليلة.']]\n",
            "['ستمطر' 'الليلة.']\n"
          ],
          "name": "stdout"
        },
        {
          "output_type": "stream",
          "text": [
            "/usr/local/lib/python3.7/dist-packages/nltk/translate/bleu_score.py:490: UserWarning: \n",
            "Corpus/Sentence contains 0 counts of 3-gram overlaps.\n",
            "BLEU scores might be undesirable; use SmoothingFunction().\n",
            "  warnings.warn(_msg)\n"
          ],
          "name": "stderr"
        },
        {
          "output_type": "execute_result",
          "data": {
            "text/plain": [
              "1.0"
            ]
          },
          "metadata": {
            "tags": []
          },
          "execution_count": 147
        }
      ]
    },
    {
      "cell_type": "code",
      "metadata": {
        "colab": {
          "base_uri": "https://localhost:8080/"
        },
        "id": "OoVbQQyi0tON",
        "outputId": "9411a24f-48ef-4edb-d948-f7c94b762ac0"
      },
      "source": [
        "i = np.random.choice(len(input_sentences))\n",
        "input_seq = encoder_input_sequences[i:i+1]\n",
        "translation = translate_sentence(input_seq)\n",
        "print('-')\n",
        "print('Input:', input_sentences[i])\n",
        "print('Response:', translation)"
      ],
      "execution_count": null,
      "outputs": [
        {
          "output_type": "stream",
          "text": [
            "-\n",
            "Input: The war finally broke out.\n",
            "Response: اِندلعت الحرب الحرب عام ١٩٣٩\n"
          ],
          "name": "stdout"
        }
      ]
    },
    {
      "cell_type": "code",
      "metadata": {
        "colab": {
          "base_uri": "https://localhost:8080/"
        },
        "id": "sPGOWzH8NrUj",
        "outputId": "3f48f0c7-1108-4f39-87b4-e8908367b43e"
      },
      "source": [
        "from nltk.translate.bleu_score import sentence_bleu\n",
        "from nltk.translate.bleu_score import corpus_bleu\n",
        "reference = np.array(output_sentences[i][:-5].split())\n",
        "trans = np.array(translation.split())\n",
        "ref = reference.reshape(1, -1)\n",
        "print(ref)\n",
        "print(trans)\n",
        "sentence_bleu(ref, trans)"
      ],
      "execution_count": null,
      "outputs": [
        {
          "output_type": "stream",
          "text": [
            "[['اِندلعت' 'الحرب' 'أخيراً.']]\n",
            "['اِندلعت' 'الحرب' 'الحرب' 'عام' '١٩٣٩']\n"
          ],
          "name": "stdout"
        },
        {
          "output_type": "stream",
          "text": [
            "/usr/local/lib/python3.7/dist-packages/nltk/translate/bleu_score.py:490: UserWarning: \n",
            "Corpus/Sentence contains 0 counts of 3-gram overlaps.\n",
            "BLEU scores might be undesirable; use SmoothingFunction().\n",
            "  warnings.warn(_msg)\n"
          ],
          "name": "stderr"
        },
        {
          "output_type": "execute_result",
          "data": {
            "text/plain": [
              "0.5623413251903491"
            ]
          },
          "metadata": {
            "tags": []
          },
          "execution_count": 152
        }
      ]
    },
    {
      "cell_type": "code",
      "metadata": {
        "colab": {
          "base_uri": "https://localhost:8080/"
        },
        "id": "Bpe6-Ga40tXl",
        "outputId": "b97cb823-a216-4016-9638-d25a94fa6641"
      },
      "source": [
        "i = np.random.choice(len(input_sentences))\n",
        "input_seq = encoder_input_sequences[i:i+1]\n",
        "translation = translate_sentence(input_seq)\n",
        "print('-')\n",
        "print('Input:', input_sentences[i])\n",
        "print('Response:', translation)"
      ],
      "execution_count": null,
      "outputs": [
        {
          "output_type": "stream",
          "text": [
            "-\n",
            "Input: I've worked here for many years.\n",
            "Response: لقد عملت هنا لمدة عديدة.\n"
          ],
          "name": "stdout"
        }
      ]
    },
    {
      "cell_type": "code",
      "metadata": {
        "colab": {
          "base_uri": "https://localhost:8080/"
        },
        "id": "vdTeFtZ9Nzzq",
        "outputId": "e52bf93e-8c27-4f6d-caa4-167de0390944"
      },
      "source": [
        "from nltk.translate.bleu_score import sentence_bleu\n",
        "from nltk.translate.bleu_score import corpus_bleu\n",
        "reference = np.array(output_sentences[i][:-5].split())\n",
        "trans = np.array(translation.split())\n",
        "ref = reference.reshape(1, -1)\n",
        "print(ref)\n",
        "print(trans)\n",
        "sentence_bleu(ref, trans)"
      ],
      "execution_count": null,
      "outputs": [
        {
          "output_type": "stream",
          "text": [
            "[['لقد' 'عملت' 'هنا' 'لسنوات' 'عديدة.']]\n",
            "['لقد' 'عملت' 'هنا' 'لمدة' 'عديدة.']\n"
          ],
          "name": "stdout"
        },
        {
          "output_type": "stream",
          "text": [
            "/usr/local/lib/python3.7/dist-packages/nltk/translate/bleu_score.py:490: UserWarning: \n",
            "Corpus/Sentence contains 0 counts of 4-gram overlaps.\n",
            "BLEU scores might be undesirable; use SmoothingFunction().\n",
            "  warnings.warn(_msg)\n"
          ],
          "name": "stderr"
        },
        {
          "output_type": "execute_result",
          "data": {
            "text/plain": [
              "0.6042750794713536"
            ]
          },
          "metadata": {
            "tags": []
          },
          "execution_count": 162
        }
      ]
    }
  ]
}